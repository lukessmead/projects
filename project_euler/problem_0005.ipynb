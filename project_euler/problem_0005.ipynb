{
 "cells": [
  {
   "cell_type": "markdown",
   "id": "528d8218",
   "metadata": {},
   "source": [
    "#### Probem 5:"
   ]
  },
  {
   "cell_type": "markdown",
   "id": "b8413e48",
   "metadata": {},
   "source": [
    "2520 is the smallest number that can be divided by each of the numbers from 1 to 10 without any remainder.\n",
    "\n",
    "What is the smallest positive number that is *evenly divisible* by all of the numbers from 1 to 20?"
   ]
  },
  {
   "cell_type": "markdown",
   "id": "fd0064e0",
   "metadata": {},
   "source": [
    "*Evenly Divisible*: Adjective. Leaving no remainder when divided by. 15 is evenly divisible by 3, but 16 isn't."
   ]
  },
  {
   "cell_type": "code",
   "execution_count": 1,
   "id": "a28aa39b",
   "metadata": {},
   "outputs": [],
   "source": [
    "# Find the smallest multiple by finding the Lowest Common Multiple for the set of numbers.\n",
    "# To do this we need the prime factorisation of each number, then we take the highest power\n",
    "# of each prime from the numbers and finally multiply them together."
   ]
  },
  {
   "cell_type": "code",
   "execution_count": 2,
   "id": "6bbae5aa",
   "metadata": {},
   "outputs": [],
   "source": [
    "# First we need to find the prime factorisation\n",
    "# We have this from Problem 3:\n",
    "\n",
    "# Function to find prime factors of a number\n",
    "def prime_factors(number, prime_factor_list):\n",
    "    # Will search numbers until a factor is found\n",
    "    # Then divide number by our factor and search again\n",
    "    # Return list of factors when number is 1\n",
    "    if number == 1:\n",
    "        return prime_factor_list\n",
    "    for factor in range(2, number+1):\n",
    "        if number % factor == 0:\n",
    "            prime_factor_list = prime_factors(int(number/factor), prime_factor_list)\n",
    "            prime_factor_list.append(factor)\n",
    "            return(prime_factor_list)"
   ]
  },
  {
   "cell_type": "code",
   "execution_count": 3,
   "id": "48de7439",
   "metadata": {},
   "outputs": [],
   "source": [
    "# Now we get the prime factors for all the numbers up to n_max\n",
    "def get_all_prime_factors(n_max):\n",
    "    all_prime_factors = []\n",
    "    for n in range(2,n_max+1):\n",
    "        all_prime_factors.append(prime_factors(n, []))\n",
    "    return(all_prime_factors)"
   ]
  },
  {
   "cell_type": "code",
   "execution_count": 4,
   "id": "a2ba1285",
   "metadata": {},
   "outputs": [],
   "source": [
    "# Now find all the unique primes to seach through\n",
    "# Can use sets to reduce the duplicate primes\n",
    "# Need to turn our prime factors list of lists into a flat list\n",
    "def get_prime_factors_unique_list(all_prime_factors):\n",
    "    prime_factors_flat_list = [prime_factor_value for prime_factors_list in all_prime_factors for prime_factor_value in prime_factors_list]\n",
    "    prime_factors_unique_list = list(set(prime_factors_flat_list))\n",
    "    return(prime_factors_unique_list)"
   ]
  },
  {
   "cell_type": "code",
   "execution_count": 5,
   "id": "fd62bc66",
   "metadata": {},
   "outputs": [],
   "source": [
    "# Now find highest number of occurances of each prime factor\n",
    "def get_prime_factor_occurances(prime_factors_unique_list, all_prime_factors):\n",
    "    number_occurances = []\n",
    "    for n in prime_factors_unique_list:\n",
    "        highest_occurance = 0\n",
    "        for prime_factors_list_count in all_prime_factors:\n",
    "            occurance = prime_factors_list_count.count(n)\n",
    "            if occurance > highest_occurance: highest_occurance = occurance\n",
    "        number_occurances.append(highest_occurance)\n",
    "    return(number_occurances)"
   ]
  },
  {
   "cell_type": "code",
   "execution_count": 6,
   "id": "302bb4c2",
   "metadata": {},
   "outputs": [],
   "source": [
    "# Now take each unique prime and raise it to the powers of the number of occurances\n",
    "def calculate_lowest_common_multiple(prime_factors_unique_list, number_occurances):\n",
    "    lcm = 1\n",
    "    for unique_prime in prime_factors_unique_list:\n",
    "        lcm *= unique_prime ** number_occurances[prime_factors_unique_list.index(unique_prime)]\n",
    "    return(lcm)"
   ]
  },
  {
   "cell_type": "code",
   "execution_count": 7,
   "id": "88a5298b",
   "metadata": {},
   "outputs": [],
   "source": [
    "# Bring everything together\n",
    "def find_solution(n_max):\n",
    "    all_prime_factors = get_all_prime_factors(n_max)\n",
    "\n",
    "    prime_factors_unique_list = get_prime_factors_unique_list(all_prime_factors)\n",
    "\n",
    "    number_occurances = get_prime_factor_occurances(prime_factors_unique_list, all_prime_factors)\n",
    "    \n",
    "    solution = calculate_lowest_common_multiple(prime_factors_unique_list, number_occurances)\n",
    "    \n",
    "    solution_string = f'The Lowest Common Multiple of all integers from 1 to {n_max} = {solution:,} = '\n",
    "\n",
    "    solution_string += ' x '.join(f'{unique_prime}^{number_occurances[prime_factors_unique_list.index(unique_prime)]}' for unique_prime in prime_factors_unique_list)\n",
    "\n",
    "    print(solution_string)"
   ]
  },
  {
   "cell_type": "code",
   "execution_count": 8,
   "id": "74e2ac01",
   "metadata": {},
   "outputs": [
    {
     "name": "stdout",
     "output_type": "stream",
     "text": [
      "The Lowest Common Multiple of all integers from 1 to 20 = 232,792,560 = 2^4 x 3^2 x 5^1 x 7^1 x 11^1 x 13^1 x 17^1 x 19^1\n"
     ]
    }
   ],
   "source": [
    "find_solution(20)"
   ]
  },
  {
   "cell_type": "markdown",
   "id": "caf14180",
   "metadata": {},
   "source": [
    "Problem 5 Solution: The Lowest Common Multiple of all integers from 1 to 20 = 232,792,560 = 2^4 x 3^2 x 5^1 x 7^1 x 11^1 x 13^1 x 17^1 x 19^1"
   ]
  }
 ],
 "metadata": {
  "kernelspec": {
   "display_name": "Python 3",
   "language": "python",
   "name": "python3"
  },
  "language_info": {
   "codemirror_mode": {
    "name": "ipython",
    "version": 3
   },
   "file_extension": ".py",
   "mimetype": "text/x-python",
   "name": "python",
   "nbconvert_exporter": "python",
   "pygments_lexer": "ipython3",
   "version": "3.8.8"
  }
 },
 "nbformat": 4,
 "nbformat_minor": 5
}
