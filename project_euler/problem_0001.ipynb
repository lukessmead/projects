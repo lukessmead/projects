{
 "cells": [
  {
   "cell_type": "markdown",
   "id": "d4035d24",
   "metadata": {},
   "source": [
    "#### Problem 1:\n",
    "\n",
    "If we list all the natural numbers below 10 that are multiples of 3 or 5, we get 3, 5, 6 and 9. The sum of these multiples is 23.\n",
    "\n",
    "Find the sum of all the multiples of 3 or 5 below 1000."
   ]
  },
  {
   "cell_type": "code",
   "execution_count": 1,
   "id": "81b6ed6d",
   "metadata": {},
   "outputs": [],
   "source": [
    "import time\n",
    "import matplotlib\n",
    "from matplotlib import pyplot as plt\n",
    "\n",
    "matplotlib.rcParams['font.sans-serif'] = \"Times New Roman\""
   ]
  },
  {
   "cell_type": "code",
   "execution_count": 2,
   "id": "a2d1949f",
   "metadata": {},
   "outputs": [],
   "source": [
    "# Computes the sum of all numbers smaller than max_n,\n",
    "# that are multiples of any of the numbers in multiples_list\n",
    "def compute_sum_of_multiples(multiples_list, max_n, min_n=0):\n",
    "    '''\n",
    "    multiples_list : List of integers that are the multiples we want to check all integers against.\n",
    "    \n",
    "    max_n : The upper limit of the search range, not inclusive.\n",
    "    min_n : The lower limit of the search range, inclusive.\n",
    "    \n",
    "    Therefore, search range is [min_n, max_n).\n",
    "    '''\n",
    "    # Record sum of appropriate integers.\n",
    "    sum = 0\n",
    "    \n",
    "    # Loop over every integer in specified range.\n",
    "    for n in range(int(min_n), int(max_n)):\n",
    "        \n",
    "        # Loop over multiples until test integer is a multiple.\n",
    "        for multiple in multiples_list:\n",
    "            # Check if test integer is a multiple\n",
    "            if n % multiple == 0: \n",
    "                # Add integer to sum.\n",
    "                sum+=n\n",
    "                # Do not test subsequent multiples if test integer is a multiple of a previous multiple. \n",
    "                break\n",
    "    return sum"
   ]
  },
  {
   "cell_type": "code",
   "execution_count": 3,
   "id": "876d8ff1",
   "metadata": {},
   "outputs": [
    {
     "name": "stdout",
     "output_type": "stream",
     "text": [
      "Sum of all the multiples of any of [3, 5] less than 1,000 = 233168, computed in 0.000000s\n",
      "Sum of all the multiples of any of [3, 5] less than 10,000 = 23331668, computed in 0.000992s\n",
      "Sum of all the multiples of any of [3, 5] less than 20,000 = 93316668, computed in 0.002481s\n",
      "Sum of all the multiples of any of [3, 5] less than 30,000 = 209985000, computed in 0.003968s\n",
      "Sum of all the multiples of any of [3, 5] less than 40,000 = 373326668, computed in 0.004960s\n",
      "Sum of all the multiples of any of [3, 5] less than 50,000 = 583291668, computed in 0.005983s\n",
      "Sum of all the multiples of any of [3, 5] less than 60,000 = 839970000, computed in 0.006944s\n",
      "Sum of all the multiples of any of [3, 5] less than 70,000 = 1143321668, computed in 0.007936s\n",
      "Sum of all the multiples of any of [3, 5] less than 80,000 = 1493266668, computed in 0.009920s\n",
      "Sum of all the multiples of any of [3, 5] less than 90,000 = 1889955000, computed in 0.010445s\n",
      "Sum of all the multiples of any of [3, 5] less than 100,000 = 2333316668, computed in 0.011875s\n",
      "Sum of all the multiples of any of [3, 5] less than 200,000 = 9333166668, computed in 0.023312s\n",
      "Sum of all the multiples of any of [3, 5] less than 300,000 = 20999850000, computed in 0.036704s\n",
      "Sum of all the multiples of any of [3, 5] less than 400,000 = 37333266668, computed in 0.047616s\n",
      "Sum of all the multiples of any of [3, 5] less than 500,000 = 58332916668, computed in 0.062496s\n",
      "Sum of all the multiples of any of [3, 5] less than 600,000 = 83999700000, computed in 0.071920s\n",
      "Sum of all the multiples of any of [3, 5] less than 700,000 = 114333216668, computed in 0.082336s\n",
      "Sum of all the multiples of any of [3, 5] less than 800,000 = 149332666668, computed in 0.094958s\n",
      "Sum of all the multiples of any of [3, 5] less than 900,000 = 188999550000, computed in 0.108128s\n",
      "Sum of all the multiples of any of [3, 5] less than 1,000,000 = 233333166668, computed in 0.119536s\n",
      "Sum of all the multiples of any of [3, 5] less than 2,000,000 = 933331666668, computed in 0.238576s\n",
      "Sum of all the multiples of any of [3, 5] less than 3,000,000 = 2099998500000, computed in 0.366048s\n",
      "Sum of all the multiples of any of [3, 5] less than 4,000,000 = 3733332666668, computed in 0.480158s\n",
      "Sum of all the multiples of any of [3, 5] less than 5,000,000 = 5833329166668, computed in 0.598672s\n",
      "Sum of all the multiples of any of [3, 5] less than 6,000,000 = 8399997000000, computed in 0.712751s\n",
      "Sum of all the multiples of any of [3, 5] less than 7,000,000 = 11433332166668, computed in 0.829808s\n",
      "Sum of all the multiples of any of [3, 5] less than 8,000,000 = 14933326666668, computed in 0.971849s\n",
      "Sum of all the multiples of any of [3, 5] less than 9,000,000 = 18899995500000, computed in 1.080288s\n"
     ]
    }
   ],
   "source": [
    "# List of all max integers we want to test.\n",
    "# Starting value is 1,000 (the value required in the problem).\n",
    "n_max_list = [1*10**3]\n",
    "\n",
    "# Now add larger integers of the format x*10^e such that\n",
    "# we have values in the range 10,000 to 9,000,000.\n",
    "for e in range(4,7):\n",
    "    for n in range(1,10):\n",
    "        n_max_list.append(n*10**e)\n",
    "\n",
    "# Want to record computation time for each max integer\n",
    "# Expect computation to be O(N)\n",
    "computation_times = []\n",
    "\n",
    "# The list of multiples we need to check\n",
    "multiples = [3,5]\n",
    "\n",
    "# Loop over list of max integers\n",
    "for n_max in n_max_list:\n",
    "    # Record start time\n",
    "    start_time = time.time()\n",
    "    # Perform calculation\n",
    "    result = compute_sum_of_multiples(multiples, n_max)\n",
    "    # Record end time\n",
    "    end_time = time.time()\n",
    "    # Print result and timing info\n",
    "    print(f\"Sum of all the multiples of any of {multiples} less than {n_max:,} = {result}, computed in {end_time - start_time:.6f}s\")\n",
    "    # Record computation time\n",
    "    computation_times.append(end_time - start_time)"
   ]
  },
  {
   "cell_type": "code",
   "execution_count": 4,
   "id": "c9aa8009",
   "metadata": {},
   "outputs": [
    {
     "data": {
      "text/plain": [
       "<Figure size 432x288 with 0 Axes>"
      ]
     },
     "metadata": {},
     "output_type": "display_data"
    },
    {
     "data": {
      "image/png": "[encoded data removed]",
      "text/plain": [
       "<Figure size 360x360 with 1 Axes>"
      ]
     },
     "metadata": {
      "needs_background": "light"
     },
     "output_type": "display_data"
    }
   ],
   "source": [
    "# Create plot of the computation time vs the max search integer.\n",
    "# Plotted on a log log scale, the line appears straight,\n",
    "# making the computation O(N)\n",
    "\n",
    "plt.clf()\n",
    "fig = plt.figure(figsize=(5,5))\n",
    "\n",
    "# Plot all results except n=1,000 since the time recorded is 0.000000\n",
    "plt.plot(n_max_list[1:], computation_times[1:])\n",
    "\n",
    "plt.yscale('log')\n",
    "plt.xscale('log')\n",
    "\n",
    "plt.ylabel('Computation Time (s)', fontsize=30)\n",
    "plt.xlabel('Max N', fontsize=30)\n",
    "\n",
    "plt.tick_params(labelsize=24)\n",
    "\n",
    "plt.show()"
   ]
  },
  {
   "cell_type": "markdown",
   "id": "cd10ae4a",
   "metadata": {},
   "source": [
    "Problem 1 Solution: The sum of all the multiples of 3 or 5 below 1000 = 233,168."
   ]
  }
 ],
 "metadata": {
  "kernelspec": {
   "display_name": "Python 3",
   "language": "python",
   "name": "python3"
  },
  "language_info": {
   "codemirror_mode": {
    "name": "ipython",
    "version": 3
   },
   "file_extension": ".py",
   "mimetype": "text/x-python",
   "name": "python",
   "nbconvert_exporter": "python",
   "pygments_lexer": "ipython3",
   "version": "3.8.8"
  }
 },
 "nbformat": 4,
 "nbformat_minor": 5
}
