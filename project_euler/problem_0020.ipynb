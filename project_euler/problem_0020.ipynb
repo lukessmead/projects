{
 "cells": [
  {
   "cell_type": "markdown",
   "id": "0f38230f",
   "metadata": {},
   "source": [
    "## Problem 20: Factorial Digit Sum\n",
    "\n",
    "$n!$ means $n × (n − 1) × ... × 3 × 2 × 1$\n",
    "\n",
    "For example, $10! = 10 × 9 × ... × 3 × 2 × 1 = 3628800$,\n",
    "and the sum of the digits in the number $10!$ is $3 + 6 + 2 + 8 + 8 + 0 + 0 = 27$.\n",
    "\n",
    "Find the sum of the digits in the number $100!$"
   ]
  },
  {
   "cell_type": "code",
   "execution_count": 1,
   "id": "39ed2512",
   "metadata": {},
   "outputs": [
    {
     "name": "stdout",
     "output_type": "stream",
     "text": [
      "There are 158 digits in 100! and their sum is 648.\n"
     ]
    }
   ],
   "source": [
    "# Python can handle large numbers by default. Can use the factorial function from the math package\n",
    "\n",
    "import math\n",
    "\n",
    "factorial_number = 100\n",
    "\n",
    "factorial = math.factorial(factorial_number)\n",
    "\n",
    "solution = sum(int(s) for s in str(factorial))\n",
    "\n",
    "print(f'There are {len(str(factorial)):,} digits in 100! and their sum is {solution:,}.')"
   ]
  },
  {
   "cell_type": "markdown",
   "id": "85644bdb",
   "metadata": {},
   "source": [
    "### Problem 20 Solution:\n",
    "\n",
    "There are 158 digits in 100! and their sum is 648."
   ]
  }
 ],
 "metadata": {
  "kernelspec": {
   "display_name": "Python 3",
   "language": "python",
   "name": "python3"
  },
  "language_info": {
   "codemirror_mode": {
    "name": "ipython",
    "version": 3
   },
   "file_extension": ".py",
   "mimetype": "text/x-python",
   "name": "python",
   "nbconvert_exporter": "python",
   "pygments_lexer": "ipython3",
   "version": "3.8.8"
  }
 },
 "nbformat": 4,
 "nbformat_minor": 5
}
