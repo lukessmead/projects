{
 "cells": [
  {
   "cell_type": "markdown",
   "id": "50fa3944",
   "metadata": {},
   "source": [
    "### Problem 10: Summation of primes"
   ]
  },
  {
   "cell_type": "markdown",
   "id": "c5e4989b",
   "metadata": {},
   "source": [
    "The sum of the primes below 10 is $2 + 3 + 5 + 7 = 17$.\n",
    "\n",
    "Find the sum of all the primes below two million."
   ]
  },
  {
   "cell_type": "code",
   "execution_count": 1,
   "id": "4f9b3118",
   "metadata": {},
   "outputs": [],
   "source": [
    "import numpy as np\n",
    "import tqdm\n",
    "import time"
   ]
  },
  {
   "cell_type": "code",
   "execution_count": 2,
   "id": "66712234",
   "metadata": {},
   "outputs": [],
   "source": [
    "# This function determines whether the input number is a prime.\n",
    "# This is done by seeing if the number is divisible by any primes.\n",
    "# Only need to test primes that are smaller than the number's square root.\n",
    "# This requires the prime_list to include all primes up to the square root\n",
    "# of the test number.\n",
    "def is_prime_with_prime_list(number, prime_list):\n",
    "    \n",
    "    for prime in prime_list:\n",
    "        \n",
    "        # Only need to test up to the square root of the number.\n",
    "        if prime > np.sqrt(number) + 1:\n",
    "            break\n",
    "        \n",
    "        # If the number is divisible by a prime, then it is not prime.\n",
    "        if number % prime == 0:\n",
    "            return False\n",
    "    \n",
    "    # If the number is not divible by a prime, it must be the next prime.\n",
    "    return True"
   ]
  },
  {
   "cell_type": "code",
   "execution_count": 3,
   "id": "066c869f",
   "metadata": {},
   "outputs": [],
   "source": [
    "# This function produces a list of primes up to the max specified.\n",
    "# It does this by testing all the numbers up to the max for primality.\n",
    "def produce_prime_list_with_individual_testing(max_number):\n",
    "    \n",
    "    prime_list = []\n",
    "    \n",
    "    # Loop through all integers up to max\n",
    "    for number in range(2, max_number):\n",
    "        \n",
    "        # Test for primality\n",
    "        if is_prime_with_prime_list(number, prime_list): prime_list.append(number)\n",
    "    \n",
    "    return prime_list"
   ]
  },
  {
   "cell_type": "code",
   "execution_count": 4,
   "id": "315d70c2",
   "metadata": {},
   "outputs": [
    {
     "name": "stdout",
     "output_type": "stream",
     "text": [
      "There are 148,933 primes below 2,000,000 and their sum is 142,913,828,922. This was calculated in 36.53885s\n"
     ]
    }
   ],
   "source": [
    "max_number = 2_000_000\n",
    "\n",
    "start_time = time.time()\n",
    "primes = produce_prime_list_with_individual_testing(max_number)\n",
    "\n",
    "solution = 0\n",
    "for prime in primes:\n",
    "    solution += prime\n",
    "end_time = time.time()\n",
    "    \n",
    "print(f'There are {len(primes):,} primes below {max_number:,} and their sum is {solution:,}. This was calculated in {end_time - start_time:.5f}s')"
   ]
  },
  {
   "cell_type": "markdown",
   "id": "92a79574",
   "metadata": {},
   "source": [
    "The above method for compiling a list of primes is quite slow. A quicker method is The Sieve of Eratosthenes:\n",
    "\n",
    "The sieve of Eratosthenes is an ancient algorithm for finding all prime numbers up to any given limit. It does so by iteratively marking as composite (i.e., not prime) the multiples of each prime, starting with the first prime number, 2. The multiples of a given prime are generated as a sequence of numbers starting from that prime, with constant difference between them that is equal to that prime. This is the sieve's key distinction from using trial division to sequentially test each candidate number for divisibility by each prime. Once all the multiples of each discovered prime have been marked as composites, the remaining unmarked numbers are primes."
   ]
  },
  {
   "cell_type": "code",
   "execution_count": 5,
   "id": "b98ffedb",
   "metadata": {},
   "outputs": [],
   "source": [
    "# This function sieves an array of primality flags using the number provided.\n",
    "# It sets the primality flag to 0 for all numbers that are multiples of the number.\n",
    "def sieve(number, flags):\n",
    "\n",
    "    # Keep setting the flags to 0 until we reach the end of the list.\n",
    "    # Only need to multiply our number until it reaches the end of the list.\n",
    "    for multiple in range(2, int(np.ceil(len(flags) / number) + 1)):\n",
    "        \n",
    "        # Don't go beyond the length of the list.\n",
    "        if (number * multiple) - 2 < len(flags):\n",
    "            \n",
    "            # Set the primalilty flag to 0.\n",
    "            # Need to convert number to flag index:\n",
    "            # 0 index is the number 2\n",
    "            # 1 index is the number 3\n",
    "            # Conversion: index = number -2\n",
    "            flags[(number*multiple) - 2] = 0\n",
    "    \n",
    "    return flags"
   ]
  },
  {
   "cell_type": "code",
   "execution_count": 6,
   "id": "5afb16cc",
   "metadata": {},
   "outputs": [],
   "source": [
    "# This function produces an array of prime flags which store the primality of the integers 2 to max_number - 1.\n",
    "# The sieve is run and the prime flags are set.\n",
    "# Then a list of numbers is produced containing only numbers with prime flags.\n",
    "def produce_primality_with_sieve(max_number):\n",
    "    \n",
    "    # Flags are for numbers 2 to max_number-1\n",
    "    prime_flags = np.ones(max_number-2)\n",
    "    \n",
    "    # Loop through the prime flags\n",
    "    # Run the sieve when a prime is found\n",
    "    for index in range(len(prime_flags)-1):\n",
    "        \n",
    "        # If the prime flag is still set, then it is a prime. Run the sieve\n",
    "        if prime_flags[index]:\n",
    "            prime_flags = sieve(index + 2, prime_flags)\n",
    "    \n",
    "    return prime_flags"
   ]
  },
  {
   "cell_type": "code",
   "execution_count": 7,
   "id": "28cd2927",
   "metadata": {},
   "outputs": [],
   "source": [
    "# This function produces a list of primes using an array of primalilty flags.\n",
    "def produce_prime_list_with_flags(flags):\n",
    "    \n",
    "    primes = []\n",
    "    \n",
    "    for index in range(len(flags)-1):\n",
    "        \n",
    "        if flags[index]: primes.append(index + 2)\n",
    "    \n",
    "    return primes"
   ]
  },
  {
   "cell_type": "code",
   "execution_count": 8,
   "id": "00822030",
   "metadata": {},
   "outputs": [],
   "source": [
    "# This function produces a list of primes using the sieve to produce an array of primality.\n",
    "def produce_prime_list_with_sieve(max_number):\n",
    "    \n",
    "    flags = produce_primality_with_sieve(max_number)\n",
    "    \n",
    "    prime_list = produce_prime_list_with_flags(flags)\n",
    "    \n",
    "    return prime_list"
   ]
  },
  {
   "cell_type": "code",
   "execution_count": 9,
   "id": "adbddea5",
   "metadata": {},
   "outputs": [
    {
     "name": "stdout",
     "output_type": "stream",
     "text": [
      "There are 148,933 primes below 2,000,000 and their sum is 142,913,828,922. This was calculated in 1.96320s\n"
     ]
    }
   ],
   "source": [
    "max_number = 2_000_000\n",
    "\n",
    "start_time = time.time()\n",
    "primes = produce_prime_list_with_sieve(max_number)\n",
    "\n",
    "solution = 0\n",
    "for prime in primes:\n",
    "    solution += prime\n",
    "end_time = time.time()\n",
    "    \n",
    "print(f'There are {len(primes):,} primes below {max_number:,} and their sum is {solution:,}. This was calculated in {end_time - start_time:.5f}s')"
   ]
  },
  {
   "cell_type": "markdown",
   "id": "a5af1d4b",
   "metadata": {},
   "source": [
    "Problem 10 Solution:\n",
    "\n",
    "There are 148,933 primes below 2,000,000 and their sum is 142,913,828,922."
   ]
  }
 ],
 "metadata": {
  "kernelspec": {
   "display_name": "Python 3",
   "language": "python",
   "name": "python3"
  },
  "language_info": {
   "codemirror_mode": {
    "name": "ipython",
    "version": 3
   },
   "file_extension": ".py",
   "mimetype": "text/x-python",
   "name": "python",
   "nbconvert_exporter": "python",
   "pygments_lexer": "ipython3",
   "version": "3.8.8"
  }
 },
 "nbformat": 4,
 "nbformat_minor": 5
}
