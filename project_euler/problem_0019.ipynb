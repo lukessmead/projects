{
 "cells": [
  {
   "cell_type": "markdown",
   "id": "bedb245c",
   "metadata": {},
   "source": [
    "## Problem 19: Counting Sundays\n",
    "\n",
    "You are given the following information, but you may prefer to do some research for yourself.\n",
    "\n",
    "- 1 Jan 1900 was a Monday.\n",
    "\n",
    "- Thirty days has September,\n",
    "    April, June and November.\n",
    "    All the rest have thirty-one,\n",
    "    Saving February alone,\n",
    "    Which has twenty-eight, rain or shine.\n",
    "    And on leap years, twenty-nine.\n",
    "\n",
    "- A leap year occurs on any year evenly divisible by 4, but not on a century unless it is divisible by 400.\n",
    "\n",
    "How many Sundays fell on the first of the month during the twentieth century (1 Jan 1901 to 31 Dec 2000)?"
   ]
  },
  {
   "cell_type": "code",
   "execution_count": 1,
   "id": "af5b0730",
   "metadata": {},
   "outputs": [],
   "source": [
    "# python has datetime package\n",
    "# Can return day of the week by giving date.\n",
    "import datetime"
   ]
  },
  {
   "cell_type": "code",
   "execution_count": 2,
   "id": "73e4236d",
   "metadata": {},
   "outputs": [],
   "source": [
    "''' \n",
    "Counts the number of a particular day falling on the first of a month between two dates.\n",
    "\n",
    "eg:\n",
    ">>> count_particular_day(1996, 5, 2023, 1, 'Monday')\n",
    ">>> 45\n",
    "'''\n",
    "\n",
    "def count_particular_day(start_year : int, start_month : int, end_year : int, end_month : int, weekday : str) -> int:\n",
    "    '''\n",
    "    --- Function Description --------------------------------------------------------------------------------------------------\n",
    "        Counts the number of a particular day falling on the first of a month between two dates.\n",
    "        \n",
    "        Uses the python library datetime to reutrn the weekday for a given date.\n",
    "    ---------------------------------------------------------------------------------------------------------------------------\n",
    "    \n",
    "    --- Function Inputs -------------------------------------------------------------------------------------------------------\n",
    "        : int : start_year : The year to start the count from.\n",
    "        : int : start_month : The month to start the count from.\n",
    "        \n",
    "        : int : end_year : The year to end the count from.\n",
    "        : int : end_month : The month to end the count from.\n",
    "        \n",
    "        : str : weekday : The weekday to count.\n",
    "    ---------------------------------------------------------------------------------------------------------------------------\n",
    "    \n",
    "    --- Function Outputs ------------------------------------------------------------------------------------------------------\n",
    "        : int : The number of that particular weekday between the dates given.\n",
    "    ---------------------------------------------------------------------------------------------------------------------------\n",
    "    \n",
    "    --- Function Examples -----------------------------------------------------------------------------------------------------\n",
    "        >>> count_particular_day(1996, 5, 2023, 1, 'Monday')\n",
    "        >>> 45\n",
    "    ---------------------------------------------------------------------------------------------------------------------------\n",
    "    '''\n",
    "    \n",
    "    # Check types of function inputs:\n",
    "    if not isinstance(start_year, int): raise ValueError('Please enter an integer > 0 for the start_year argument.')\n",
    "    if start_year < 1: raise ValueError('Please enter an integer > 0 for the start_year argument.')\n",
    "    if not isinstance(start_month, int): raise ValueError('Please enter an integer > 0 for the start_month argument.')\n",
    "    if start_month < 1: raise ValueError('Please enter an integer > 0 for the start_month argument.')\n",
    "    \n",
    "    if not isinstance(end_year, int): raise ValueError('Please enter an integer > 0 for the end_year argument.')\n",
    "    if end_year < 1: raise ValueError('Please enter an integer > 0 for the end_year argument.')\n",
    "    if not isinstance(end_month, int): raise ValueError('Please enter an integer > 0 for the end_month argument.')\n",
    "    if end_month < 1: raise ValueError('Please enter an integer > 0 for the end_month argument.')\n",
    "    \n",
    "    if weekday == \"Monday\":\n",
    "        weekday_index = 0\n",
    "    elif weekday ==  \"Tuesday\":\n",
    "        weekday_index = 1\n",
    "    elif weekday ==  \"Wednesday\":\n",
    "        weekday_index = 2\n",
    "    elif weekday ==  \"Thursday\":\n",
    "        weekday_index = 3\n",
    "    elif weekday ==  \"Friday\":\n",
    "        weekday_index = 4\n",
    "    elif weekday ==  \"Saturday\":\n",
    "        weekday_index = 5\n",
    "    elif weekday ==  \"Sunday\":\n",
    "        weekday_index = 6\n",
    "    else:\n",
    "        raise ValueError('Please enter a day of the week for the weekday argument. eg. Monday')\n",
    "    \n",
    "    weekday_count = 0\n",
    "    \n",
    "    # Loop over the years specified.\n",
    "    for year in range(start_year, end_year+1):\n",
    "        \n",
    "        # Loop through the months, need to be careful about start and end months in the loop.\n",
    "        \n",
    "        # If start and end year are the same, then only count between start month and end month\n",
    "        if (year == start_year) and (year == end_year):\n",
    "            for month in range(start_month, end_month+1):\n",
    "                if(datetime.date(year, month, 1).weekday() == weekday_index): weekday_count += 1\n",
    "        \n",
    "        # If we are on the start year, then start at the start month\n",
    "        elif year == start_year:\n",
    "            for month in range(start_month, 13):\n",
    "                if(datetime.date(year, month, 1).weekday() == weekday_index): weekday_count += 1\n",
    "        \n",
    "        # If we are at the end year, then end at the end month\n",
    "        elif year == end_year:\n",
    "            for month in range(1, end_month+1):\n",
    "                if(datetime.date(year, month, 1).weekday() == weekday_index): weekday_count += 1\n",
    "        \n",
    "        # If we are in a middle year, then count all months\n",
    "        else:\n",
    "            for month in range(1, 13):\n",
    "                if(datetime.date(year, month, 1).weekday() == weekday_index): weekday_count += 1\n",
    "    \n",
    "    return weekday_count"
   ]
  },
  {
   "cell_type": "code",
   "execution_count": 3,
   "id": "1bc97d43",
   "metadata": {},
   "outputs": [
    {
     "name": "stdout",
     "output_type": "stream",
     "text": [
      "Between the dates of 01/01/1901 and 31/12/2000 inclusive, there were 171 Sundays that fell on the first of the month.\n"
     ]
    }
   ],
   "source": [
    "solution = count_particular_day(1901, 1, 2000, 12, 'Sunday')\n",
    "\n",
    "print(f'Between the dates of 01/01/1901 and 31/12/2000 inclusive, there were {solution} Sundays that fell on the first of the month.')"
   ]
  },
  {
   "cell_type": "markdown",
   "id": "c83a0b0c",
   "metadata": {},
   "source": [
    "### Problem 19 Solution:\n",
    "\n",
    "Between the dates of 01/01/1901 and 31/12/2000 inclusive, there were 171 Sundays that fell on the first of the month."
   ]
  }
 ],
 "metadata": {
  "kernelspec": {
   "display_name": "Python 3",
   "language": "python",
   "name": "python3"
  },
  "language_info": {
   "codemirror_mode": {
    "name": "ipython",
    "version": 3
   },
   "file_extension": ".py",
   "mimetype": "text/x-python",
   "name": "python",
   "nbconvert_exporter": "python",
   "pygments_lexer": "ipython3",
   "version": "3.8.8"
  }
 },
 "nbformat": 4,
 "nbformat_minor": 5
}
