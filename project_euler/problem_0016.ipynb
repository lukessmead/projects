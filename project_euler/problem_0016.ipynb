{
 "cells": [
  {
   "cell_type": "markdown",
   "id": "055fd086",
   "metadata": {},
   "source": [
    "## Problem 16: Power Digit Sum\n",
    "\n",
    "$2^{15} = 32768$ and the sum of its digits is $3 + 2 + 7 + 6 + 8 = 26$.\n",
    "\n",
    "What is the sum of the digits of the number $2^{1000}$?"
   ]
  },
  {
   "cell_type": "code",
   "execution_count": 2,
   "id": "d2ff931e",
   "metadata": {},
   "outputs": [],
   "source": [
    "# Python can handle large numbers natively.\n",
    "\n",
    "power = 2**1000\n",
    "power_string = str(power)\n",
    "power_string_length = len(power_string)\n",
    "\n",
    "solution = sum(int(n) for n in power_string)"
   ]
  },
  {
   "cell_type": "code",
   "execution_count": 3,
   "id": "122325b4",
   "metadata": {},
   "outputs": [
    {
     "name": "stdout",
     "output_type": "stream",
     "text": [
      "There are 302 digits in the number 2^1000 and they sum to 1,366.\n"
     ]
    }
   ],
   "source": [
    "print(f'There are {power_string_length:,} digits in the number 2^1000 and they sum to {solution:,}.')"
   ]
  },
  {
   "cell_type": "markdown",
   "id": "3d7ab98e",
   "metadata": {},
   "source": [
    "### Problem 16 Solution:\n",
    "\n",
    "There are 302 digits in the number 2^1000 and they sum to 1,366."
   ]
  }
 ],
 "metadata": {
  "kernelspec": {
   "display_name": "Python 3",
   "language": "python",
   "name": "python3"
  },
  "language_info": {
   "codemirror_mode": {
    "name": "ipython",
    "version": 3
   },
   "file_extension": ".py",
   "mimetype": "text/x-python",
   "name": "python",
   "nbconvert_exporter": "python",
   "pygments_lexer": "ipython3",
   "version": "3.8.8"
  }
 },
 "nbformat": 4,
 "nbformat_minor": 5
}
