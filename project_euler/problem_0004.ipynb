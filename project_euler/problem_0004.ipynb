{
 "cells": [
  {
   "cell_type": "markdown",
   "id": "381f3655",
   "metadata": {},
   "source": [
    "#### Problem 4:\n",
    "\n",
    "A palindromic number reads the same both ways. The largest palindrome made from the product of two 2-digit numbers is 9009 = 91 × 99.\n",
    "\n",
    "Find the largest palindrome made from the product of two 3-digit numbers."
   ]
  },
  {
   "cell_type": "code",
   "execution_count": 1,
   "id": "bd712f4c",
   "metadata": {},
   "outputs": [],
   "source": [
    "import numpy as np"
   ]
  },
  {
   "cell_type": "code",
   "execution_count": 2,
   "id": "ceeb2582",
   "metadata": {},
   "outputs": [],
   "source": [
    "# Determine if number is a palindrome\n",
    "def is_palindrome(number):\n",
    "    # Test for palindrome by turning number into a string\n",
    "    # and comparing it to it's reverse.\n",
    "    # [::-1] = start at the end, end at the start, and move in steps of -1 = reverse\n",
    "    return str(number) == str(number)[::-1]"
   ]
  },
  {
   "cell_type": "code",
   "execution_count": 3,
   "id": "a8177e40",
   "metadata": {},
   "outputs": [],
   "source": [
    "# Calculate list of all palindromes\n",
    "def find_palindromes():\n",
    "    palindromes = []\n",
    "    products = []\n",
    "    for first_multiplier in range(100, 1000):\n",
    "        for second_multiplier in range(100, 1000):\n",
    "            product = first_multiplier * second_multiplier\n",
    "            if is_palindrome(product):\n",
    "                palindromes.append(product)\n",
    "                products.append([first_multiplier, second_multiplier])\n",
    "    return palindromes, products"
   ]
  },
  {
   "cell_type": "code",
   "execution_count": 4,
   "id": "7acb99df",
   "metadata": {},
   "outputs": [],
   "source": [
    "results, products = find_palindromes()\n",
    "\n",
    "solution = np.max(results)\n",
    "solution_products = products[results.index(solution)]"
   ]
  },
  {
   "cell_type": "code",
   "execution_count": 5,
   "id": "1994c2ea",
   "metadata": {},
   "outputs": [
    {
     "name": "stdout",
     "output_type": "stream",
     "text": [
      "The largest palindrome made from the product of two 3-digit numbers = 913 x 993 = 906,609\n"
     ]
    }
   ],
   "source": [
    "print(f\"The largest palindrome made from the product of two 3-digit numbers = {solution_products[0]} x {solution_products[1]} = {solution:,}\")"
   ]
  },
  {
   "cell_type": "code",
   "execution_count": 6,
   "id": "785fb8f9",
   "metadata": {},
   "outputs": [],
   "source": [
    "# Calculate list of all palindromes that are products of two numbers of specified digits:\n",
    "def find_palindromes_generic(first_number_digits, second_number_digits):\n",
    "    palindromes = []\n",
    "    products = []\n",
    "    for first_multiplier in range(10**(first_number_digits-1), 10**(first_number_digits)):\n",
    "        for second_multiplier in range(10**(second_number_digits-1), 10**(second_number_digits)):\n",
    "            product = first_multiplier * second_multiplier\n",
    "            if is_palindrome(product):\n",
    "                palindromes.append(product)\n",
    "                products.append([first_multiplier, second_multiplier])\n",
    "    return palindromes, products"
   ]
  },
  {
   "cell_type": "code",
   "execution_count": 7,
   "id": "5f594d9d",
   "metadata": {},
   "outputs": [
    {
     "name": "stdout",
     "output_type": "stream",
     "text": [
      "The largest palindrome made from the product of a 4-digit number and a 4-digit number = 9901 x 9999 = 99,000,099\n"
     ]
    }
   ],
   "source": [
    "first_number_digits = 4\n",
    "second_number_digits = 4\n",
    "results, products = find_palindromes_generic(first_number_digits, second_number_digits)\n",
    "\n",
    "solution = np.max(results)\n",
    "solution_products = products[results.index(solution)]\n",
    "\n",
    "print(f\"The largest palindrome made from the product of a {first_number_digits}-digit number and a {second_number_digits}-digit number = {solution_products[0]} x {solution_products[1]} = {solution:,}\")"
   ]
  },
  {
   "cell_type": "markdown",
   "id": "a3a4b803",
   "metadata": {},
   "source": [
    "Problem 4 Solution: The largest palindrom made from the product of two 3-digit numbers = 913 x 993 = 906,609."
   ]
  }
 ],
 "metadata": {
  "kernelspec": {
   "display_name": "Python 3",
   "language": "python",
   "name": "python3"
  },
  "language_info": {
   "codemirror_mode": {
    "name": "ipython",
    "version": 3
   },
   "file_extension": ".py",
   "mimetype": "text/x-python",
   "name": "python",
   "nbconvert_exporter": "python",
   "pygments_lexer": "ipython3",
   "version": "3.8.8"
  }
 },
 "nbformat": 4,
 "nbformat_minor": 5
}
