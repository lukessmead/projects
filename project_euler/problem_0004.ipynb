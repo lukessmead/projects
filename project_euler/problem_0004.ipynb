{
 "cells": [
  {
   "cell_type": "markdown",
   "id": "381f3655",
   "metadata": {},
   "source": [
    "## Problem 4: Palindromic Numbers\n",
    "\n",
    "A palindromic number reads the same both ways. The largest palindrome made from the product of two 2-digit numbers is 9009 = 91 × 99.\n",
    "\n",
    "Find the largest palindrome made from the product of two 3-digit numbers."
   ]
  },
  {
   "cell_type": "code",
   "execution_count": 1,
   "id": "bd712f4c",
   "metadata": {},
   "outputs": [],
   "source": [
    "import numpy as np"
   ]
  },
  {
   "cell_type": "code",
   "execution_count": 2,
   "id": "ceeb2582",
   "metadata": {},
   "outputs": [],
   "source": [
    "''' \n",
    "Determines if number is a palindrome. Does this by converting the number to a string, flipping the string and comparing\n",
    "it to the original string. If each element matches its flipped counterpart, then the number is a palindrome.\n",
    "\n",
    "eg:\n",
    ">>> is_palindrome(1000)\n",
    ">>> False\n",
    "'''\n",
    "\n",
    "def is_palindrome(number : 'int | str') -> bool:\n",
    "    \n",
    "    '''\n",
    "    --- Function Description --------------------------------------------------------------------------------------------------\n",
    "        Determines if number is a palindrome. Does this by converting the number to a string, flipping the string and comparing\n",
    "        it to the original string. If each element matches its flipped counterpart, then the number is a palindrome.\n",
    "    ---------------------------------------------------------------------------------------------------------------------------\n",
    "    \n",
    "    --- Function Inputs -------------------------------------------------------------------------------------------------------\n",
    "        : int | str : number : The number which is being tested.\n",
    "    ---------------------------------------------------------------------------------------------------------------------------\n",
    "    \n",
    "    --- Function Outputs ------------------------------------------------------------------------------------------------------\n",
    "        : bool : Whether the number is a palindrome.\n",
    "    ---------------------------------------------------------------------------------------------------------------------------\n",
    "    \n",
    "    --- Function Examples -----------------------------------------------------------------------------------------------------\n",
    "        >>> is_palindrome(1000)\n",
    "        >>> False\n",
    "\n",
    "        >>> is_palindrome('123321')\n",
    "        >>> True\n",
    "\n",
    "        >>> is_palindrome(123321)\n",
    "        >>> True\n",
    "    ---------------------------------------------------------------------------------------------------------------------------\n",
    "    '''\n",
    "    \n",
    "    # Test for palindrome by turning number into a string and comparing it to it's reverse.\n",
    "    # [::-1] = start at the end, end at the start, and move in steps of -1 = reverse\n",
    "    return str(number) == str(number)[::-1]"
   ]
  },
  {
   "cell_type": "code",
   "execution_count": 3,
   "id": "a8177e40",
   "metadata": {},
   "outputs": [],
   "source": [
    "''' \n",
    "Finds all the palindromic numbers that are products of 3-digit numbers, and records the numbers needed to generate the products.\n",
    "\n",
    "eg:\n",
    ">>> find_palindromes()\n",
    ">>> ([10201, 11211, 12221, ...], [[101, 101], [101, 111], [101, 121], ...])\n",
    "'''\n",
    "\n",
    "def find_palindromes() -> list:\n",
    "    '''\n",
    "    --- Function Description --------------------------------------------------------------------------------------------------\n",
    "        Finds all the palindromic numbers that are products of 3-digit numbers, and records the numbers needed \n",
    "        to generate the products.\n",
    "    ---------------------------------------------------------------------------------------------------------------------------\n",
    "    \n",
    "    --- Function Outputs ------------------------------------------------------------------------------------------------------\n",
    "        : list : Returns two lists :\n",
    "            : list : palindromes : The list of all palindrome numbers.\n",
    "            : list : multiples : The two numbers used in the product of the palindromes.\n",
    "    ---------------------------------------------------------------------------------------------------------------------------\n",
    "    \n",
    "    --- Function Examples -----------------------------------------------------------------------------------------------------\n",
    "        >>> find_palindromes()\n",
    "        >>> ([10201, 11211, 12221, ...], [[101, 101], [101, 111], [101, 121], ...])\n",
    "    ---------------------------------------------------------------------------------------------------------------------------\n",
    "    '''\n",
    "    \n",
    "    palindromes = []\n",
    "    multiples = []\n",
    "    \n",
    "    # Search from 100 up to 999.\n",
    "    for first_multiplier in range(100, 1000):\n",
    "        for second_multiplier in range(100, 1000):\n",
    "            \n",
    "            # Calculate the product and test if it is a palindrome.\n",
    "            product = first_multiplier * second_multiplier\n",
    "            if is_palindrome(product):\n",
    "                palindromes.append(product)\n",
    "                multiples.append([first_multiplier, second_multiplier])\n",
    "    \n",
    "    return palindromes, multiples"
   ]
  },
  {
   "cell_type": "code",
   "execution_count": 4,
   "id": "7acb99df",
   "metadata": {},
   "outputs": [],
   "source": [
    "results, multiples = find_palindromes()\n",
    "\n",
    "solution = np.max(results)\n",
    "solution_multiples = multiples[results.index(solution)]"
   ]
  },
  {
   "cell_type": "code",
   "execution_count": 5,
   "id": "1994c2ea",
   "metadata": {},
   "outputs": [
    {
     "name": "stdout",
     "output_type": "stream",
     "text": [
      "The largest palindrome made from the product of two 3-digit numbers = 913 x 993 = 906,609\n"
     ]
    }
   ],
   "source": [
    "print(f\"The largest palindrome made from the product of two 3-digit numbers = {solution_multiples[0]} x {solution_multiples[1]} = {solution:,}\")"
   ]
  },
  {
   "cell_type": "code",
   "execution_count": 6,
   "id": "785fb8f9",
   "metadata": {},
   "outputs": [],
   "source": [
    "''' \n",
    "Finds all the palindromic numbers that are products of an x-digit number multiplied by a y-digit number, and records the \n",
    "numbers needed to generate the products.\n",
    "\n",
    "eg:\n",
    ">>> find_palindromes_generic(2, 4)\n",
    ">>> ([11011, 12221, 13431, ...], [[11, 1001], [11, 1111], [11, 1221], ...])\n",
    "'''\n",
    "\n",
    "def find_palindromes_generic(first_number_digits, second_number_digits):\n",
    "    '''\n",
    "    --- Function Description --------------------------------------------------------------------------------------------------\n",
    "        Finds all the palindromic numbers that are products of an x-digit number multiplied by a y-digit number, \n",
    "        and records the numbers needed to generate the products.\n",
    "    ---------------------------------------------------------------------------------------------------------------------------\n",
    "    \n",
    "    --- Function Outputs ------------------------------------------------------------------------------------------------------\n",
    "        : list : Returns two lists :\n",
    "            : list : palindromes : The list of all palindrome numbers.\n",
    "            : list : multiples : The two numbers used in the product of the palindromes.\n",
    "    ---------------------------------------------------------------------------------------------------------------------------\n",
    "    \n",
    "    --- Function Examples -----------------------------------------------------------------------------------------------------\n",
    "        >>> find_palindromes_generic(2, 4)\n",
    "        >>> ([11011, 12221, 13431, ...], [[11, 1001], [11, 1111], [11, 1221], ...])\n",
    "    ---------------------------------------------------------------------------------------------------------------------------\n",
    "    '''\n",
    "    \n",
    "    # Check types of function inputs:\n",
    "    if not isinstance(first_number_digits, int): raise ValueError('Please enter an integer > 0 for the first_number_digits argument.')\n",
    "    if first_number_digits < 1: raise ValueError('Please enter an integer > 0 for the first_number_digits argument.')\n",
    "    if not isinstance(second_number_digits, int): raise ValueError('Please enter an integer > 0 for the second_number_digits argument.')\n",
    "    if second_number_digits < 1: raise ValueError('Please enter an integer > 0 for the second_number_digits argument.')\n",
    "        \n",
    "    palindromes = []\n",
    "    multiples = []\n",
    "    \n",
    "    # Search from 1XXX to 9XXX.\n",
    "    for first_multiplier in range(10**(first_number_digits-1), 10**(first_number_digits)):\n",
    "        \n",
    "        # Search from 1YYY to 9YYY.\n",
    "        for second_multiplier in range(10**(second_number_digits-1), 10**(second_number_digits)):\n",
    "            \n",
    "            # Calculate the product and test if it is a palindrome.\n",
    "            product = first_multiplier * second_multiplier\n",
    "            if is_palindrome(product):\n",
    "                palindromes.append(product)\n",
    "                multiples.append([first_multiplier, second_multiplier])\n",
    "                \n",
    "    return palindromes, multiples"
   ]
  },
  {
   "cell_type": "code",
   "execution_count": 7,
   "id": "5f594d9d",
   "metadata": {},
   "outputs": [
    {
     "name": "stdout",
     "output_type": "stream",
     "text": [
      "The largest palindrome made from the product of a 2-digit number and a 4-digit number = 99 x 9911 = 981,189\n"
     ]
    }
   ],
   "source": [
    "first_number_digits = 2\n",
    "second_number_digits = 4\n",
    "results, multiples = find_palindromes_generic(first_number_digits, second_number_digits)\n",
    "\n",
    "solution = np.max(results)\n",
    "solution_multiples = multiples[results.index(solution)]\n",
    "\n",
    "print(f\"The largest palindrome made from the product of a {first_number_digits}-digit number and a {second_number_digits}-digit number = {solution_multiples[0]} x {solution_multiples[1]} = {solution:,}\")"
   ]
  },
  {
   "cell_type": "markdown",
   "id": "a3a4b803",
   "metadata": {},
   "source": [
    "### Problem 4 Solution: \n",
    "\n",
    "The largest palindrom made from the product of two 3-digit numbers = 913 x 993 = 906,609."
   ]
  }
 ],
 "metadata": {
  "kernelspec": {
   "display_name": "Python 3",
   "language": "python",
   "name": "python3"
  },
  "language_info": {
   "codemirror_mode": {
    "name": "ipython",
    "version": 3
   },
   "file_extension": ".py",
   "mimetype": "text/x-python",
   "name": "python",
   "nbconvert_exporter": "python",
   "pygments_lexer": "ipython3",
   "version": "3.8.8"
  }
 },
 "nbformat": 4,
 "nbformat_minor": 5
}
