{
 "cells": [
  {
   "cell_type": "markdown",
   "id": "9cc8870a",
   "metadata": {},
   "source": [
    "#### Problem 7:"
   ]
  },
  {
   "cell_type": "markdown",
   "id": "fd4d12b2",
   "metadata": {},
   "source": [
    "By listing the first six prime numbers: 2, 3, 5, 7, 11, and 13, we can see that the 6th prime is 13.\n",
    "\n",
    "What is the 10 001st prime number?"
   ]
  },
  {
   "cell_type": "code",
   "execution_count": 1,
   "id": "45551cf5",
   "metadata": {},
   "outputs": [],
   "source": [
    "import numpy as np\n",
    "import time"
   ]
  },
  {
   "cell_type": "code",
   "execution_count": 2,
   "id": "766cca03",
   "metadata": {},
   "outputs": [],
   "source": [
    "# Basic primality test\n",
    "def is_prime(n):\n",
    "    \n",
    "    # Deal with all primes above 2\n",
    "    if n == 2: return True\n",
    "    \n",
    "    # Need to search through all numbers up to sqrt(n)\n",
    "    for factor in range(2, int(np.ceil(np.sqrt(n)))+1):\n",
    "        \n",
    "        # If the number is a factor of n then n is not prime\n",
    "        if n % factor == 0: return False\n",
    "    \n",
    "    # If we haven't found a factor of n, then it is prime\n",
    "    return True"
   ]
  },
  {
   "cell_type": "code",
   "execution_count": 3,
   "id": "5d809ed3",
   "metadata": {},
   "outputs": [],
   "source": [
    "# Find the nth prime\n",
    "def nth_prime(n):\n",
    "    \n",
    "    # Count the number of primes found and record the last one found\n",
    "    n_prime_found = 0\n",
    "    prime_found = 0\n",
    "    \n",
    "    # Number to test for primaility\n",
    "    prime_candidate = 1\n",
    "    \n",
    "    while n_prime_found < n:\n",
    "        \n",
    "        # Test the next integer\n",
    "        prime_candidate += 1\n",
    "        \n",
    "        # Check if it is prime\n",
    "        if is_prime(prime_candidate):\n",
    "            \n",
    "            # Increase prime count if it is prime\n",
    "            n_prime_found += 1\n",
    "            \n",
    "            # Store the last prime found\n",
    "            prime_found = prime_candidate\n",
    "    \n",
    "    return prime_found"
   ]
  },
  {
   "cell_type": "code",
   "execution_count": 4,
   "id": "b9d918be",
   "metadata": {},
   "outputs": [
    {
     "name": "stdout",
     "output_type": "stream",
     "text": [
      "The 10,001th prime number is 104,743, calculated in 0.32789s.\n"
     ]
    }
   ],
   "source": [
    "target_prime = 10_001\n",
    "\n",
    "# Record time to calculate solution\n",
    "start_time = time.time()\n",
    "target_solution = nth_prime(target_prime)\n",
    "end_time = time.time()\n",
    "\n",
    "print(f'The {target_prime:,}th prime number is {target_solution:,}, calculated in {end_time - start_time:.5f}s.')"
   ]
  },
  {
   "cell_type": "markdown",
   "id": "a9403930",
   "metadata": {},
   "source": [
    "Problem 7 Solution: The 10,001th prime number is 104,743."
   ]
  }
 ],
 "metadata": {
  "kernelspec": {
   "display_name": "Python 3",
   "language": "python",
   "name": "python3"
  },
  "language_info": {
   "codemirror_mode": {
    "name": "ipython",
    "version": 3
   },
   "file_extension": ".py",
   "mimetype": "text/x-python",
   "name": "python",
   "nbconvert_exporter": "python",
   "pygments_lexer": "ipython3",
   "version": "3.8.8"
  }
 },
 "nbformat": 4,
 "nbformat_minor": 5
}
