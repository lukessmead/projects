{
 "cells": [
  {
   "cell_type": "markdown",
   "id": "ea4ed65c",
   "metadata": {},
   "source": [
    "## Problem 24: Lexicographic Permutations\n",
    "\n",
    "A permutation is an ordered arrangement of objects. For example, 3124 is one possible permutation of the digits 1, 2, 3 and 4. If all of the permutations are listed numerically or alphabetically, we call it lexicographic order. The lexicographic permutations of 0, 1 and 2 are:\n",
    "\n",
    "$012\\ \\ \\ 021\\ \\ \\ 102\\ \\ \\ 120\\ \\ \\ 201\\ \\ \\ 210$\n",
    "\n",
    "What is the millionth lexicographic permutation of the digits 0, 1, 2, 3, 4, 5, 6, 7, 8 and 9?"
   ]
  },
  {
   "cell_type": "code",
   "execution_count": 1,
   "id": "c2dcd739",
   "metadata": {},
   "outputs": [],
   "source": [
    "import itertools"
   ]
  },
  {
   "cell_type": "code",
   "execution_count": 2,
   "id": "1da672d5",
   "metadata": {},
   "outputs": [],
   "source": [
    "''' \n",
    "Returns the nth iteration of an array of numbers.\n",
    "\n",
    "eg:\n",
    ">>> proper_divisors(24)\n",
    ">>> [1, 2, 3, 4, 6, 8, 12]\n",
    "'''\n",
    "\n",
    "def nth_permutation(number_array : list, n_iteration : int) -> int:\n",
    "    '''\n",
    "    --- Function Description --------------------------------------------------------------------------------------------------\n",
    "        Returns the nth iteration of an array of numbers.\n",
    "        \n",
    "        Use the itertools package to generate the permutations and select the nth iteration.\n",
    "            \n",
    "            Use the permutations function in itertools to generate the permutations: \n",
    "            https://docs.python.org/3/library/itertools.html#itertools.permutations\n",
    "                Return successive r length permutations of elements in the iterable.\n",
    "                itertools.permutations(iterable, r=None)\n",
    "            \n",
    "            Use the islice function in itertools to select the nth iteration:\n",
    "            https://docs.python.org/3/library/itertools.html#itertools.islice\n",
    "                Make an iterator that returns selected elements from the iterable.\n",
    "        \n",
    "        \n",
    "    ---------------------------------------------------------------------------------------------------------------------------\n",
    "    \n",
    "    --- Function Inputs -------------------------------------------------------------------------------------------------------\n",
    "        : list : number_array : The array of numbers to find the permutations for.\n",
    "        : int : n_iteration : The number of the iteration of permutation to return.\n",
    "    ---------------------------------------------------------------------------------------------------------------------------\n",
    "    \n",
    "    --- Function Outputs ------------------------------------------------------------------------------------------------------\n",
    "        : int : permutation : The nth iteration of the purmutations of the number array.\n",
    "    ---------------------------------------------------------------------------------------------------------------------------\n",
    "    \n",
    "    --- Function Examples -----------------------------------------------------------------------------------------------------\n",
    "        >>> proper_divisors(24)\n",
    "        >>> [1, 2, 3, 4, 6, 8, 12]\n",
    "    ---------------------------------------------------------------------------------------------------------------------------\n",
    "    '''\n",
    "    \n",
    "    # Check types of function inputs:\n",
    "    if not isinstance(number_array, list): raise ValueError('Please enter a list of integers for the number_array argument.')\n",
    "    for number in number_array:\n",
    "        if not isinstance(number, int): raise ValueError('Please enter a list of integers for the number_array argument.')\n",
    "    if not isinstance(n_iteration, int): raise ValueError('Please enter an integer >0 for the n_iteration argument.')\n",
    "    if n_iteration < 1: raise ValueError('Please enter an integer >0 for the n_iteration argument.')\n",
    "    \n",
    "    permutation_list = next(itertools.islice(itertools.permutations(number_array), n_iteration-1, None))\n",
    "    \n",
    "    permutation = ''.join(str(number) for number in permutation_list)\n",
    "    \n",
    "    return permutation"
   ]
  },
  {
   "cell_type": "code",
   "execution_count": 3,
   "id": "bcdc1694",
   "metadata": {},
   "outputs": [
    {
     "name": "stdout",
     "output_type": "stream",
     "text": [
      "The 1,000,000th Lexicographic permutation of the array [0, 1, 2, 3, 4, 5, 6, 7, 8, 9] is 2783915460.\n"
     ]
    }
   ],
   "source": [
    "problem_nth_permutation = 1_000_000\n",
    "permutation_start = [0,1,2,3,4,5,6,7,8,9]\n",
    "solution = nth_permutation(permutation_start, problem_nth_permutation)\n",
    "\n",
    "print(f'The {problem_nth_permutation:,}th Lexicographic permutation of the array {permutation_start} is {solution}.')"
   ]
  },
  {
   "cell_type": "markdown",
   "id": "5903b4d7",
   "metadata": {},
   "source": [
    "### Problem 24 Solution:\n",
    "\n",
    "The 1,000,000th Lexicographic permutation of the array [0, 1, 2, 3, 4, 5, 6, 7, 8, 9] is 2783915460."
   ]
  }
 ],
 "metadata": {
  "kernelspec": {
   "display_name": "Python 3",
   "language": "python",
   "name": "python3"
  },
  "language_info": {
   "codemirror_mode": {
    "name": "ipython",
    "version": 3
   },
   "file_extension": ".py",
   "mimetype": "text/x-python",
   "name": "python",
   "nbconvert_exporter": "python",
   "pygments_lexer": "ipython3",
   "version": "3.8.8"
  }
 },
 "nbformat": 4,
 "nbformat_minor": 5
}
