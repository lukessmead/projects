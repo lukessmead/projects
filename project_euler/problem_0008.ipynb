{
 "cells": [
  {
   "cell_type": "markdown",
   "id": "2625ffcd",
   "metadata": {},
   "source": [
    "#### Problem 8"
   ]
  },
  {
   "cell_type": "markdown",
   "id": "f0bd3280",
   "metadata": {},
   "source": [
    "The four adjacent digits in the 1000-digit number:"
   ]
  },
  {
   "cell_type": "markdown",
   "id": "703a721a",
   "metadata": {},
   "source": [
    "$\n",
    "73167176531330624919225119674426574742355349194934\\\\\n",
    "96983520312774506326239578318016984801869478851843\\\\\n",
    "85861560789112949495459501737958331952853208805511\\\\\n",
    "12540698747158523863050715693290963295227443043557\\\\\n",
    "66896648950445244523161731856403098711121722383113\\\\\n",
    "62229893423380308135336276614282806444486645238749\\\\\n",
    "30358907296290491560440772390713810515859307960866\\\\\n",
    "70172427121883998797908792274921901699720888093776\\\\\n",
    "65727333001053367881220235421809751254540594752243\\\\\n",
    "52584907711670556013604839586446706324415722155397\\\\\n",
    "53697817977846174064955149290862569321978468622482\\\\\n",
    "83972241375657056057490261407972968652414535100474\\\\\n",
    "82166370484403199890008895243450658541227588666881\\\\\n",
    "16427171479924442928230863465674813919123162824586\\\\\n",
    "17866458359124566529476545682848912883142607690042\\\\\n",
    "24219022671055626321111109370544217506941658960408\\\\\n",
    "07198403850962455444362981230987879927244284909188\\\\\n",
    "84580156166097919133875499200524063689912560717606\\\\\n",
    "05886116467109405077541002256983155200055935729725\\\\\n",
    "71636269561882670428252483600823257530420752963450\n",
    "$"
   ]
  },
  {
   "cell_type": "markdown",
   "id": "9f071ed8",
   "metadata": {},
   "source": [
    "that have the greatest product are 9 × 9 × 8 × 9 = 5832."
   ]
  },
  {
   "cell_type": "markdown",
   "id": "647f3a1e",
   "metadata": {},
   "source": [
    "Find the thirteen adjacent digits in the 1000-digit number that have the greatest product. What is the value of this product?"
   ]
  },
  {
   "cell_type": "code",
   "execution_count": 1,
   "id": "a422e49b",
   "metadata": {},
   "outputs": [],
   "source": [
    "# Save number as string so we can take substrings via indexing.\n",
    "number = '7316717653133062491922511967442657474235534919493496983520312774506326239578318016984801869478851843858615607891129494954595017379583319528532088055111254069874715852386305071569329096329522744304355766896648950445244523161731856403098711121722383113622298934233803081353362766142828064444866452387493035890729629049156044077239071381051585930796086670172427121883998797908792274921901699720888093776657273330010533678812202354218097512545405947522435258490771167055601360483958644670632441572215539753697817977846174064955149290862569321978468622482839722413756570560574902614079729686524145351004748216637048440319989000889524345065854122758866688116427171479924442928230863465674813919123162824586178664583591245665294765456828489128831426076900422421902267105562632111110937054421750694165896040807198403850962455444362981230987879927244284909188845801561660979191338754992005240636899125607176060588611646710940507754100225698315520005593572972571636269561882670428252483600823257530420752963450'"
   ]
  },
  {
   "cell_type": "code",
   "execution_count": 2,
   "id": "4249b156",
   "metadata": {},
   "outputs": [],
   "source": [
    "# Get a subset of the number.\n",
    "# Doesn't need to be in a function, but improves readability of solution.\n",
    "def number_subset(number, start, length):\n",
    "    return number[start:start+length]"
   ]
  },
  {
   "cell_type": "code",
   "execution_count": 3,
   "id": "51169283",
   "metadata": {},
   "outputs": [],
   "source": [
    "# Calculate product of the subset of numbers\n",
    "def multiply_subset(number, start, length):\n",
    "    product = 1\n",
    "    for digit in number_subset(number, start, length):\n",
    "        product *= int(digit)\n",
    "    return product"
   ]
  },
  {
   "cell_type": "code",
   "execution_count": 4,
   "id": "817940d9",
   "metadata": {},
   "outputs": [],
   "source": [
    "# Find the largest product and the index of the first number in the subset.\n",
    "def find_largest_product(number, length):\n",
    "    \n",
    "    # Store current largest product and postion of substring\n",
    "    largest_product = 0\n",
    "    largest_index = -1\n",
    "    \n",
    "    # Loop through the number up to the last substring.\n",
    "    # This is where the index of the first number in the substring is \n",
    "    # the length of the numebr - the length of the substring,\n",
    "    # -1 (due to 0 indexing).\n",
    "    for index in range(len(number) - length + 1):\n",
    "        \n",
    "        # Calculate product of substring\n",
    "        test_product = multiply_subset(number, index, length)\n",
    "        \n",
    "        # See if it is larger than all the other products\n",
    "        if test_product > largest_product:\n",
    "            \n",
    "            # Store result\n",
    "            largest_product = test_product\n",
    "            largest_index = index\n",
    "    \n",
    "    # Find the largest substring using the index\n",
    "    largest_product_numbers = number[largest_index:largest_index+length]\n",
    "    \n",
    "    # Return results\n",
    "    return largest_product, largest_product_numbers"
   ]
  },
  {
   "cell_type": "code",
   "execution_count": 5,
   "id": "dcffff00",
   "metadata": {},
   "outputs": [],
   "source": [
    "result, numbers = find_largest_product(number, 13)"
   ]
  },
  {
   "cell_type": "code",
   "execution_count": 6,
   "id": "32b06e27",
   "metadata": {},
   "outputs": [
    {
     "name": "stdout",
     "output_type": "stream",
     "text": [
      "The thirteen adjacent digits in the 1000-digit number that have the greatest product are 5576689664895, which have a product of 23,514,624,000.\n"
     ]
    }
   ],
   "source": [
    "print(f'The thirteen adjacent digits in the 1000-digit number that have the greatest product are {numbers}, which have a product of {result:,}.')"
   ]
  },
  {
   "cell_type": "markdown",
   "id": "d54e9a10",
   "metadata": {},
   "source": [
    "Problem 8 Solution: The thirteen adjacent digits in the 1000-digit number that have the greatest product are 5576689664895, which have a product of 23,514,624,000."
   ]
  }
 ],
 "metadata": {
  "kernelspec": {
   "display_name": "Python 3",
   "language": "python",
   "name": "python3"
  },
  "language_info": {
   "codemirror_mode": {
    "name": "ipython",
    "version": 3
   },
   "file_extension": ".py",
   "mimetype": "text/x-python",
   "name": "python",
   "nbconvert_exporter": "python",
   "pygments_lexer": "ipython3",
   "version": "3.8.8"
  }
 },
 "nbformat": 4,
 "nbformat_minor": 5
}
