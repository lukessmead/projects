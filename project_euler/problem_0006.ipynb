{
 "cells": [
  {
   "cell_type": "markdown",
   "id": "9c52766e",
   "metadata": {},
   "source": [
    "## Problem 6: Sum Square Difference\n",
    "\n",
    "The sum of the squares of the first ten natural numbers is,\n",
    "\n",
    "$1^2 + 2^2 + \\ldots + 10^2 = 385$\n",
    "\n",
    "The square of the sum of the first ten natural numbers is,\n",
    "\n",
    "$(1 + 2 + \\ldots + 10)^2 = 3025$\n",
    "\n",
    "Hence the difference between the sum of the squares of the first ten natural numbers and the square of the sum is $3025 - 385 = 2640$.\n",
    "\n",
    "Find the difference between the sum of the squares of the first one hundred natural numbers and the square of the sum."
   ]
  },
  {
   "cell_type": "code",
   "execution_count": 1,
   "id": "9521d411",
   "metadata": {},
   "outputs": [],
   "source": [
    "''' \n",
    "Calculates the sum of the squares of the integers up to and including n_max.\n",
    "\n",
    "eg:\n",
    ">>> sum_of_square(10)\n",
    ">>> 385\n",
    "'''\n",
    "\n",
    "def sum_of_square(n_max : int) -> int:\n",
    "    '''\n",
    "    --- Function Description --------------------------------------------------------------------------------------------------\n",
    "        Calculates the sum of the squares of the integers up to and including n_max.\n",
    "    ---------------------------------------------------------------------------------------------------------------------------\n",
    "    \n",
    "    --- Function Outputs ------------------------------------------------------------------------------------------------------\n",
    "        : int : n_max : The maximum number to include in the sum.\n",
    "    ---------------------------------------------------------------------------------------------------------------------------\n",
    "    \n",
    "    --- Function Examples -----------------------------------------------------------------------------------------------------\n",
    "        >>> sum_of_square(10)\n",
    "        >>> 385\n",
    "    ---------------------------------------------------------------------------------------------------------------------------\n",
    "    '''\n",
    "    \n",
    "    # Check types of function inputs:\n",
    "    if not isinstance(n_max, int): raise ValueError('Please enter an integer > 0 for the n_max argument.')\n",
    "    if n_max < 1: raise ValueError('Please enter an integer > 0 for the n_max argument.')\n",
    "    \n",
    "    # Loop through all integers from 1 to n_max, square them, then add them to the sum.\n",
    "    square_sum = 0\n",
    "    for n in range(1, n_max+1):\n",
    "        square_sum += n**2\n",
    "        \n",
    "    return(square_sum)"
   ]
  },
  {
   "cell_type": "code",
   "execution_count": 2,
   "id": "78529b7f",
   "metadata": {},
   "outputs": [],
   "source": [
    "''' \n",
    "Calculates the square of the sum of the integers up to and including n_max.\n",
    "\n",
    "eg:\n",
    ">>> square_of_sum(10)\n",
    ">>> 3025\n",
    "'''\n",
    "\n",
    "def square_of_sum(n_max : int) -> int:\n",
    "    '''\n",
    "    --- Function Description --------------------------------------------------------------------------------------------------\n",
    "        Calculates the square of the sum of the integers up to and including n_max.\n",
    "    ---------------------------------------------------------------------------------------------------------------------------\n",
    "    \n",
    "    --- Function Outputs ------------------------------------------------------------------------------------------------------\n",
    "        : int : n_max : The maximum number to include in the sum.\n",
    "    ---------------------------------------------------------------------------------------------------------------------------\n",
    "    \n",
    "    --- Function Examples -----------------------------------------------------------------------------------------------------\n",
    "        >>> square_of_sum(10)\n",
    "        >>> 3025\n",
    "    ---------------------------------------------------------------------------------------------------------------------------\n",
    "    '''\n",
    "    \n",
    "    # Check types of function inputs:\n",
    "    if not isinstance(n_max, int): raise ValueError('Please enter an integer > 0 for the n_max argument.')\n",
    "    if n_max < 1: raise ValueError('Please enter an integer > 0 for the n_max argument.')\n",
    "    \n",
    "    # Loop through all integers from 1 to n_max, sum them, then square the sum.\n",
    "    sum_square = 0\n",
    "    for n in range(1, n_max+1):\n",
    "        sum_square += n\n",
    "    \n",
    "    return(sum_square**2)"
   ]
  },
  {
   "cell_type": "code",
   "execution_count": 3,
   "id": "0c027807",
   "metadata": {},
   "outputs": [],
   "source": [
    "''' \n",
    "Calculates the difference between the sum of squares and square of sum.\n",
    "\n",
    "eg:\n",
    ">>> square_difference(10)\n",
    ">>> 2640\n",
    "'''\n",
    "\n",
    "def square_difference(n_max):\n",
    "    '''\n",
    "    --- Function Description --------------------------------------------------------------------------------------------------\n",
    "        Calculates the difference between the sum of squares and square of sum.\n",
    "    ---------------------------------------------------------------------------------------------------------------------------\n",
    "    \n",
    "    --- Function Outputs ------------------------------------------------------------------------------------------------------\n",
    "        : int : n_max : The maximum number to include in the calculation.\n",
    "    ---------------------------------------------------------------------------------------------------------------------------\n",
    "    \n",
    "    --- Function Examples -----------------------------------------------------------------------------------------------------\n",
    "        >>> square_difference(10)\n",
    "        >>> 2640\n",
    "    ---------------------------------------------------------------------------------------------------------------------------\n",
    "    '''\n",
    "    \n",
    "    # Check types of function inputs:\n",
    "    if not isinstance(n_max, int): raise ValueError('Please enter an integer > 0 for the n_max argument.')\n",
    "    if n_max < 1: raise ValueError('Please enter an integer > 0 for the n_max argument.')\n",
    "    \n",
    "    square_sum = sum_of_square(n_max)\n",
    "    sum_square = square_of_sum(n_max)\n",
    "    \n",
    "    return(sum_square - square_sum)"
   ]
  },
  {
   "cell_type": "code",
   "execution_count": 4,
   "id": "c78406e2",
   "metadata": {},
   "outputs": [
    {
     "name": "stdout",
     "output_type": "stream",
     "text": [
      "The difference between the sum of the squares of the first 100 natural numbers and the square of the sum = 25,164,150.\n"
     ]
    }
   ],
   "source": [
    "max_n = 100\n",
    "solution = square_difference(max_n)\n",
    "print(f'The difference between the sum of the squares of the first {max_n} natural numbers and the square of the sum = {solution:,}.')"
   ]
  },
  {
   "cell_type": "markdown",
   "id": "79a4cf60",
   "metadata": {},
   "source": [
    "There are also analytical formulas for these quantities:\n",
    "\n",
    "The sum of natural numbers is given by $s = N(N + 1) / 2$.\n",
    "\n",
    "The sum of the squares of the natural numbers is given by $s_2 = N(N + 1)(2N + 1) / 6$.\n",
    "\n",
    "Therefore $s^2 - s_2 = (N^4 / 4) + (N^3 / 6) - (N^2 / 4) - (N / 6)$."
   ]
  },
  {
   "cell_type": "code",
   "execution_count": 5,
   "id": "bb96453e",
   "metadata": {},
   "outputs": [],
   "source": [
    "''' \n",
    "Calculates the difference between the sum of squares and square of sum using analytical formulae:\n",
    "\n",
    "s = N(N + 1) / 2\n",
    "s_2 = N(N + 1)(2N + 1) / 6\n",
    "\n",
    "s^2 - s_2 = (N^4 / 4) + (N^3 / 6) - (N^2 / 4) - (N / 6)\n",
    "\n",
    "eg:\n",
    ">>> analytical_square_difference(10)\n",
    ">>> 2640\n",
    "'''\n",
    "\n",
    "def analytical_square_difference(n_max):\n",
    "    '''\n",
    "    --- Function Description --------------------------------------------------------------------------------------------------\n",
    "        Calculates the difference between the sum of squares and square of sum using analytical formulae:\n",
    "\n",
    "        s = N(N + 1) / 2\n",
    "        s_2 = N(N + 1)(2N + 1) / 6\n",
    "\n",
    "        s^2 - s_2 = (N^4 / 4) + (N^3 / 6) - (N^2 / 4) - (N / 6)\n",
    "    ---------------------------------------------------------------------------------------------------------------------------\n",
    "    \n",
    "    --- Function Outputs ------------------------------------------------------------------------------------------------------\n",
    "        : int : n_max : The maximum number to include in the calculation.\n",
    "    ---------------------------------------------------------------------------------------------------------------------------\n",
    "    \n",
    "    --- Function Examples -----------------------------------------------------------------------------------------------------\n",
    "        >>> analytical_square_difference(10)\n",
    "        >>> 2640\n",
    "    ---------------------------------------------------------------------------------------------------------------------------\n",
    "    '''\n",
    "    \n",
    "    # Check types of function inputs:\n",
    "    if not isinstance(n_max, int): raise ValueError('Please enter an integer > 0 for the n_max argument.')\n",
    "    if n_max < 1: raise ValueError('Please enter an integer > 0 for the n_max argument.')\n",
    "    \n",
    "    return int(((n_max**4)/4) + ((n_max**3)/6) - ((n_max**2)/4) - (n_max/6))"
   ]
  },
  {
   "cell_type": "code",
   "execution_count": 6,
   "id": "50beae61",
   "metadata": {},
   "outputs": [
    {
     "name": "stdout",
     "output_type": "stream",
     "text": [
      "The difference between the sum of the squares of the first 100 natural numbers and the square of the sum = 25,164,150.\n"
     ]
    }
   ],
   "source": [
    "max_n = 100\n",
    "solution = analytical_square_difference(max_n)\n",
    "print(f'The difference between the sum of the squares of the first {max_n} natural numbers and the square of the sum = {solution:,}.')"
   ]
  },
  {
   "cell_type": "markdown",
   "id": "a7dad9f7",
   "metadata": {},
   "source": [
    "### Problem 6 Solution: \n",
    "\n",
    "The difference between the sum of the squares of the first 100 natural numbers and the square of the sum = 25,164,150."
   ]
  }
 ],
 "metadata": {
  "kernelspec": {
   "display_name": "Python 3",
   "language": "python",
   "name": "python3"
  },
  "language_info": {
   "codemirror_mode": {
    "name": "ipython",
    "version": 3
   },
   "file_extension": ".py",
   "mimetype": "text/x-python",
   "name": "python",
   "nbconvert_exporter": "python",
   "pygments_lexer": "ipython3",
   "version": "3.8.8"
  }
 },
 "nbformat": 4,
 "nbformat_minor": 5
}
