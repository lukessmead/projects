{
 "cells": [
  {
   "cell_type": "markdown",
   "id": "15553565",
   "metadata": {},
   "source": [
    "## Problem 9: Special Pythagorean Triplet\n",
    "\n",
    "A Pythagorean triplet is a set of three natural numbers, $a < b < c$, for which,\n",
    "\n",
    "$a^2 + b^2 = c^2$\n",
    "\n",
    "For example, $3^2 + 4^2 = 9 + 16 = 25 = 5^2$.\n",
    "\n",
    "There exists exactly one Pythagorean triplet for which $a + b + c = 1000$.\n",
    "Find the product $abc$."
   ]
  },
  {
   "cell_type": "code",
   "execution_count": 1,
   "id": "4c036009",
   "metadata": {},
   "outputs": [],
   "source": [
    "''' \n",
    "Checks if numbers form a pythagorean triplet.\n",
    "\n",
    "eg:\n",
    ">>> is_pythagorean_triplet(3, 4, 5)\n",
    ">>> True\n",
    "'''\n",
    "\n",
    "def is_pythagorean_triplet(a : int, b : int, c : int) -> bool:\n",
    "    '''\n",
    "    --- Function Description --------------------------------------------------------------------------------------------------\n",
    "        Checks if numbers form a pythagorean triplet.\n",
    "    ---------------------------------------------------------------------------------------------------------------------------\n",
    "    \n",
    "    --- Function Inputs -------------------------------------------------------------------------------------------------------\n",
    "        : int : a : The 1st number in the triplet.\n",
    "        : int : b : The 2nd number in the triplet.\n",
    "        : int : c : The 3rd number in the triplet.\n",
    "    ---------------------------------------------------------------------------------------------------------------------------\n",
    "    \n",
    "    --- Function Outputs ------------------------------------------------------------------------------------------------------\n",
    "        : bool : The numbers form a Pythagorean Triplet.\n",
    "    ---------------------------------------------------------------------------------------------------------------------------\n",
    "    \n",
    "    --- Function Examples -----------------------------------------------------------------------------------------------------\n",
    "        >>> is_pythagorean_triplet(3, 4, 4)\n",
    "        >>> True\n",
    "    ---------------------------------------------------------------------------------------------------------------------------\n",
    "    '''\n",
    "    \n",
    "    # Check types of function inputs:\n",
    "    if not isinstance(a, int): raise ValueError('Please enter an integer > 0 for the a argument.')\n",
    "    if a < 1: raise ValueError('Please enter an integer > 0 for the a argument.')\n",
    "    if not isinstance(b, int): raise ValueError('Please enter an integer > 0 for the b argument.')\n",
    "    if b < 1: raise ValueError('Please enter an integer > 0 for the b argument.')\n",
    "    if not isinstance(c, int): raise ValueError('Please enter an integer > 0 for the c argument.')\n",
    "    if c < 1: raise ValueError('Please enter an integer > 0 for the c argument.')\n",
    "    \n",
    "    return (a**2 + b**2 == c**2)"
   ]
  },
  {
   "cell_type": "code",
   "execution_count": 2,
   "id": "bbbcabdd",
   "metadata": {},
   "outputs": [],
   "source": [
    "''' \n",
    "Searches through all possible combinations to find all Pythagorean Triplet.\n",
    "0 < a < target_sum / 3 since a < b < c\n",
    "a < b < target_sum / 2 since b < c\n",
    "c = target_sum - a - b since a + b + c = target_sum\n",
    "\n",
    "eg:\n",
    ">>> search_numbers(1000)\n",
    ">>> [[200, 375, 425]]\n",
    "'''\n",
    "\n",
    "def search_numbers(target_sum : int) -> list:\n",
    "    '''\n",
    "    --- Function Description --------------------------------------------------------------------------------------------------\n",
    "        Searches through all possible combinations to find all Pythagorean Triplet.\n",
    "        0 < a < target_sum / 3 since a < b < c\n",
    "        a < b < target_sum / 2 since b < c\n",
    "        c = target_sum - a - b since a + b + c = target_sum\n",
    "    ---------------------------------------------------------------------------------------------------------------------------\n",
    "    \n",
    "    --- Function Inputs -------------------------------------------------------------------------------------------------------\n",
    "        : int : target_sum : The target sum of the triplet.\n",
    "    ---------------------------------------------------------------------------------------------------------------------------\n",
    "    \n",
    "    --- Function Outputs ------------------------------------------------------------------------------------------------------\n",
    "        : list : The numbers form a Pythagorean Triplet and sum to the target.\n",
    "    ---------------------------------------------------------------------------------------------------------------------------\n",
    "    \n",
    "    --- Function Examples -----------------------------------------------------------------------------------------------------\n",
    "        >>> search_numbers(1000)\n",
    "        >>> T[[200, 375, 425]]rue\n",
    "    ---------------------------------------------------------------------------------------------------------------------------\n",
    "    '''\n",
    "    \n",
    "    # Check types of function inputs:\n",
    "    if not isinstance(target_sum, int): raise ValueError('Please enter an integer > 0 for the target_suma argument.')\n",
    "    if target_sum < 1: raise ValueError('Please enter an integer > 0 for the target_sum argument.')\n",
    "    \n",
    "    # Store all solutions in list\n",
    "    solutions = []\n",
    "    \n",
    "    # 0 < a < target_sum / 3 since a < b < c\n",
    "    for a in range(1, int((target_sum)/3)+1):\n",
    "        \n",
    "        # a < b < target_sum / 2 since b < c\n",
    "        for b in range(a+1, int((target_sum+1)/2)+1):\n",
    "            \n",
    "            # c = target_sum - a - b since a + b + c = target_sum\n",
    "            c = target_sum - a - b\n",
    "            \n",
    "            # Check if the set is a pythagorean triple.\n",
    "            if is_pythagorean_triplet(a, b, c): solutions.append([a, b, c])\n",
    "    \n",
    "    # Return all solutions.\n",
    "    return solutions"
   ]
  },
  {
   "cell_type": "code",
   "execution_count": 3,
   "id": "20f09556",
   "metadata": {},
   "outputs": [],
   "source": [
    "target_sum = 1000\n",
    "problem_solution = search_numbers(target_sum)[0]"
   ]
  },
  {
   "cell_type": "code",
   "execution_count": 4,
   "id": "bcad0840",
   "metadata": {},
   "outputs": [
    {
     "name": "stdout",
     "output_type": "stream",
     "text": [
      "The Pythagorean triple that sums to 1,000:\n",
      "200,    375,    425\n",
      "200   + 375   + 425   = 1,000\n",
      "200   * 375   * 425   = 31,875,000\n",
      "200^2 + 375^2 = 40,000 + 140,625 = 180,625 =  425^2\n"
     ]
    }
   ],
   "source": [
    "print(f'The Pythagorean triple that sums to {target_sum:,}:')\n",
    "print(',    '.join(str(number) for number in problem_solution))\n",
    "print(f'{problem_solution[0]}   + {problem_solution[1]}   + {problem_solution[2]}   = {problem_solution[0] + problem_solution[1] + problem_solution[2]:,}')\n",
    "print(f'{problem_solution[0]}   * {problem_solution[1]}   * {problem_solution[2]}   = {problem_solution[0] * problem_solution[1] * problem_solution[2]:,}')\n",
    "print(f'{problem_solution[0]}^2 + {problem_solution[1]}^2 = {problem_solution[0]**2:,} + {problem_solution[1]**2:,} = {problem_solution[2]**2:,} =  {problem_solution[2]}^2')"
   ]
  },
  {
   "cell_type": "markdown",
   "id": "51e67f74",
   "metadata": {},
   "source": [
    "### Problem 9 Solution:\n",
    "\n",
    "The Pythagorean triple that sums to 1,000:\n",
    "\n",
    "$200,    375,    425$\n",
    "\n",
    "$200   + 375   + 425   = 1,000$\n",
    "\n",
    "$200   * 375   * 425   = 31,875,000$\n",
    "\n",
    "$200^2 + 375^2 = 40,000 + 140,625 = 180,625 =  425^2$."
   ]
  }
 ],
 "metadata": {
  "kernelspec": {
   "display_name": "Python 3",
   "language": "python",
   "name": "python3"
  },
  "language_info": {
   "codemirror_mode": {
    "name": "ipython",
    "version": 3
   },
   "file_extension": ".py",
   "mimetype": "text/x-python",
   "name": "python",
   "nbconvert_exporter": "python",
   "pygments_lexer": "ipython3",
   "version": "3.8.8"
  }
 },
 "nbformat": 4,
 "nbformat_minor": 5
}
