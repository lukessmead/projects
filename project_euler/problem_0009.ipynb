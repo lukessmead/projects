{
 "cells": [
  {
   "cell_type": "markdown",
   "id": "15553565",
   "metadata": {},
   "source": [
    "#### Problem 9"
   ]
  },
  {
   "cell_type": "markdown",
   "id": "c8c19c33",
   "metadata": {},
   "source": [
    "A Pythagorean triplet is a set of three natural numbers, $a < b < c$, for which,\n",
    "\n",
    "$a^2 + b^2 = c^2$\n",
    "\n",
    "For example, $3^2 + 4^2 = 9 + 16 = 25 = 5^2$.\n",
    "\n",
    "There exists exactly one Pythagorean triplet for which $a + b + c = 1000$.\n",
    "Find the product $abc$."
   ]
  },
  {
   "cell_type": "code",
   "execution_count": 1,
   "id": "4c036009",
   "metadata": {},
   "outputs": [],
   "source": [
    "# Check if numbers form a pythagorean triplet.\n",
    "def is_pythagorean_triplet(a, b, c):\n",
    "    return (a**2 + b**2 == c**2)"
   ]
  },
  {
   "cell_type": "code",
   "execution_count": 2,
   "id": "bbbcabdd",
   "metadata": {},
   "outputs": [],
   "source": [
    "# Search through all possible combinations.\n",
    "# 0 < a < target_sum / 3 since a < b < c\n",
    "# a < b < target_sum / 2 since b < c\n",
    "# c = target_sum - a - b since a + b + c = target_sum\n",
    "def search_numbers(target_sum):\n",
    "    \n",
    "    # Store all solutions in list\n",
    "    solutions = []\n",
    "    \n",
    "    # 0 < a < target_sum / 3 since a < b < c\n",
    "    for a in range(1, int((target_sum)/3)+1):\n",
    "        \n",
    "        # a < b < target_sum / 2 since b < c\n",
    "        for b in range(a+1, int((target_sum+1)/2)+1):\n",
    "            \n",
    "            # c = target_sum - a - b since a + b + c = target_sum\n",
    "            c = target_sum - a - b\n",
    "            \n",
    "            # Check if the set is a pythagorean triple.\n",
    "            if is_pythagorean_triplet(a, b, c): solutions.append([a, b, c])\n",
    "    \n",
    "    # Return all solutions.\n",
    "    return solutions"
   ]
  },
  {
   "cell_type": "code",
   "execution_count": 3,
   "id": "20f09556",
   "metadata": {},
   "outputs": [],
   "source": [
    "target_sum = 1000\n",
    "problem_solution = search_numbers(target_sum)[0]"
   ]
  },
  {
   "cell_type": "code",
   "execution_count": 4,
   "id": "bcad0840",
   "metadata": {},
   "outputs": [
    {
     "name": "stdout",
     "output_type": "stream",
     "text": [
      "The Pythagorean triple that sums to 1,000:\n",
      "200,    375,    425\n",
      "200   + 375   + 425   = 1,000\n",
      "200^2 + 375^2 + 425^2 = 361,250\n",
      "200   * 375   * 425   = 31,875,000\n"
     ]
    }
   ],
   "source": [
    "print(f'The Pythagorean triple that sums to {target_sum:,}:')\n",
    "print(',    '.join(str(number) for number in problem_solution))\n",
    "print(f'{problem_solution[0]}   + {problem_solution[1]}   + {problem_solution[2]}   = {problem_solution[0] + problem_solution[1] + problem_solution[2]:,}')\n",
    "print(f'{problem_solution[0]}^2 + {problem_solution[1]}^2 + {problem_solution[2]}^2 = {problem_solution[0]**2 + problem_solution[1]**2 + problem_solution[2]**2:,}')\n",
    "print(f'{problem_solution[0]}   * {problem_solution[1]}   * {problem_solution[2]}   = {problem_solution[0] * problem_solution[1] * problem_solution[2]:,}')"
   ]
  },
  {
   "cell_type": "markdown",
   "id": "51e67f74",
   "metadata": {},
   "source": [
    "Problem 9 Solution:\n",
    "\n",
    "The Pythagorean triple that sums to 1,000:\n",
    "\n",
    "$200,    375,    425$\n",
    "\n",
    "$200   + 375   + 425   = 1,000$\n",
    "\n",
    "$200^2 + 375^2 + 425^2 = 361,250$\n",
    "\n",
    "$200   * 375   * 425   = 31,875,000$."
   ]
  }
 ],
 "metadata": {
  "kernelspec": {
   "display_name": "Python 3",
   "language": "python",
   "name": "python3"
  },
  "language_info": {
   "codemirror_mode": {
    "name": "ipython",
    "version": 3
   },
   "file_extension": ".py",
   "mimetype": "text/x-python",
   "name": "python",
   "nbconvert_exporter": "python",
   "pygments_lexer": "ipython3",
   "version": "3.8.8"
  }
 },
 "nbformat": 4,
 "nbformat_minor": 5
}
