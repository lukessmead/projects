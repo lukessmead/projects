{
 "cells": [
  {
   "cell_type": "markdown",
   "id": "008e2265",
   "metadata": {},
   "source": [
    "Problem 3:\n",
    "\n",
    "The prime factors of 13195 are 5, 7, 13 and 29.\n",
    "\n",
    "What is the largest prime factor of the number 600,851,475,143?"
   ]
  },
  {
   "cell_type": "code",
   "execution_count": 1,
   "id": "fd7d8776",
   "metadata": {},
   "outputs": [],
   "source": [
    "import time\n",
    "import numpy as np\n",
    "import math\n",
    "import matplotlib\n",
    "from matplotlib import pyplot as plt\n",
    "\n",
    "matplotlib.rcParams['font.sans-serif'] = \"Times New Roman\""
   ]
  },
  {
   "cell_type": "code",
   "execution_count": 2,
   "id": "659c822d",
   "metadata": {},
   "outputs": [],
   "source": [
    "# Function to find prime factors of a number\n",
    "def prime_factors(number, prime_factor_list):\n",
    "    # Will search numbers until a factor is found\n",
    "    # Then divide number by our factor and search again\n",
    "    # Return list of factors when number is 1\n",
    "    if number == 1:\n",
    "        return prime_factor_list\n",
    "    for factor in range(2, number+1):\n",
    "        if number % factor == 0:\n",
    "            prime_factor_list = prime_factors(int(number/factor), prime_factor_list)\n",
    "            prime_factor_list.append(factor)\n",
    "            return prime_factor_list"
   ]
  },
  {
   "cell_type": "code",
   "execution_count": 3,
   "id": "6ed3a8d8",
   "metadata": {},
   "outputs": [],
   "source": [
    "test_number = 13195\n",
    "start_time = time.time()\n",
    "test_solution = prime_factors(test_number, [])\n",
    "test_solution = np.max(test_solution)\n",
    "end_time = time.time()"
   ]
  },
  {
   "cell_type": "code",
   "execution_count": 4,
   "id": "d59cdb40",
   "metadata": {},
   "outputs": [
    {
     "name": "stdout",
     "output_type": "stream",
     "text": [
      "The largest prime factor of 13,195 is 29, computed in 0.000000s.\n"
     ]
    }
   ],
   "source": [
    "print(f\"The largest prime factor of {test_number:,} is {test_solution:,}, computed in {end_time - start_time:.6f}s.\")"
   ]
  },
  {
   "cell_type": "code",
   "execution_count": 5,
   "id": "fc71c32a",
   "metadata": {},
   "outputs": [],
   "source": [
    "problem_number = 600851475143 \n",
    "start_time = time.time()\n",
    "problem_solution = prime_factors(problem_number, [])\n",
    "test_solution = np.max(test_solution)\n",
    "end_time = time.time()"
   ]
  },
  {
   "cell_type": "code",
   "execution_count": 6,
   "id": "e7d75e6e",
   "metadata": {},
   "outputs": [
    {
     "name": "stdout",
     "output_type": "stream",
     "text": [
      "The largest prime factor of 600,851,475,143 is 29, computed in 0.000992s.\n"
     ]
    }
   ],
   "source": [
    "print(f\"The largest prime factor of {problem_number:,} is {test_solution:,}, computed in {end_time - start_time:.6f}s.\")"
   ]
  },
  {
   "cell_type": "code",
   "execution_count": 7,
   "id": "944e8f31",
   "metadata": {},
   "outputs": [],
   "source": [
    "# Can slightly modify function to only return the largest factor by returning the last factor found.\n",
    "def find_largest_prime_factor(number, largest_prime_factor):\n",
    "    if number == 1:\n",
    "        return largest_prime_factor\n",
    "    for factor in range(2, number+1):\n",
    "        if number % factor == 0:\n",
    "            largest_prime_factor = factor\n",
    "            largest_prime_factor = find_largest_prime_factor(int(number/factor), largest_prime_factor)\n",
    "            return largest_prime_factor"
   ]
  },
  {
   "cell_type": "code",
   "execution_count": 8,
   "id": "aa079aa0",
   "metadata": {},
   "outputs": [],
   "source": [
    "problem_number = 600851475143 \n",
    "start_time = time.time()\n",
    "problem_solution = find_largest_prime_factor(problem_number, 1)\n",
    "end_time = time.time()"
   ]
  },
  {
   "cell_type": "code",
   "execution_count": 9,
   "id": "2aa8dfee",
   "metadata": {},
   "outputs": [
    {
     "name": "stdout",
     "output_type": "stream",
     "text": [
      "The largest prime factor of 600,851,475,143 is 6,857, computed in 0.000496s.\n"
     ]
    }
   ],
   "source": [
    "print(f\"The largest prime factor of {problem_number:,} is {problem_solution:,}, computed in {end_time - start_time:.6f}s.\")"
   ]
  }
 ],
 "metadata": {
  "kernelspec": {
   "display_name": "Python 3",
   "language": "python",
   "name": "python3"
  },
  "language_info": {
   "codemirror_mode": {
    "name": "ipython",
    "version": 3
   },
   "file_extension": ".py",
   "mimetype": "text/x-python",
   "name": "python",
   "nbconvert_exporter": "python",
   "pygments_lexer": "ipython3",
   "version": "3.8.8"
  }
 },
 "nbformat": 4,
 "nbformat_minor": 5
}
