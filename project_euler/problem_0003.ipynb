{
 "cells": [
  {
   "cell_type": "markdown",
   "id": "008e2265",
   "metadata": {},
   "source": [
    "## Problem 3: Prime Factors\n",
    "\n",
    "The prime factors of 13195 are 5, 7, 13 and 29.\n",
    "\n",
    "What is the largest prime factor of the number 600,851,475,143?"
   ]
  },
  {
   "cell_type": "code",
   "execution_count": 1,
   "id": "fd7d8776",
   "metadata": {},
   "outputs": [],
   "source": [
    "import time\n",
    "import numpy as np\n",
    "import math\n",
    "import matplotlib\n",
    "from matplotlib import pyplot as plt\n",
    "\n",
    "matplotlib.rcParams['font.sans-serif'] = \"Times New Roman\""
   ]
  },
  {
   "cell_type": "code",
   "execution_count": 2,
   "id": "659c822d",
   "metadata": {},
   "outputs": [],
   "source": [
    "''' \n",
    "Finds the prime factors of a number. The factors are found through recursion so the prime_factor_list should be \n",
    "passed to each level of recursion.\n",
    "\n",
    "eg:\n",
    ">>> prime_factors(1000, [])\n",
    ">>> [5, 5, 5, 2, 2, 2]\n",
    "'''\n",
    "\n",
    "def prime_factors(number : int, prime_factor_list : list = []) -> list:\n",
    "    '''\n",
    "    --- Function Description --------------------------------------------------------------------------------------------------\n",
    "        Finds the prime factors of the number and stores them in prime_factor_list. Returns this list to the user. It will\n",
    "        search numbers until a factor is found, then divides the number by our factor and calls the function on the divided\n",
    "        number. The list of factors is returned when the number is 1.\n",
    "    ---------------------------------------------------------------------------------------------------------------------------\n",
    "    \n",
    "    --- Function Inputs -------------------------------------------------------------------------------------------------------\n",
    "        : int : number : The number for which the prime factors are to be found\n",
    "    \n",
    "        : list : prime_factor_list : The list of prime factors found. The factors are found through recursion so the\n",
    "                                     prime_factor_list should be passed to each level of recursion. By default this list is\n",
    "                                     empty and does not need to be passed to the function by the user.\n",
    "    ---------------------------------------------------------------------------------------------------------------------------\n",
    "    \n",
    "    --- Function Outputs ------------------------------------------------------------------------------------------------------\n",
    "        : list : prime_factor_list : The list of prime factors found.\n",
    "    ---------------------------------------------------------------------------------------------------------------------------\n",
    "    \n",
    "    --- Function Examples -----------------------------------------------------------------------------------------------------\n",
    "        >>> prime_factors(1000)\n",
    "        >>> [5, 5, 5, 2, 2, 2]\n",
    "    ---------------------------------------------------------------------------------------------------------------------------\n",
    "    '''\n",
    "    \n",
    "    # Check types of function inputs:\n",
    "    if not isinstance(number, int): raise ValueError('Please enter an integer > 0 for the number argument.')\n",
    "    if number < 1: raise ValueError('Please enter an integer > 0 for the number argument.')\n",
    "    if not isinstance(prime_factor_list, list): raise ValueError('Please enter a list of integers for the prime_factor_list argument.')\n",
    "    \n",
    "    # Return list of factors when number is 1\n",
    "    if number == 1:\n",
    "        return prime_factor_list\n",
    "    \n",
    "    # Otherwise, seach for the next prime factor.\n",
    "    # The smallest divisor will be prime since the prime will be smaller than any of its multiples.\n",
    "    for factor in range(2, number+1):\n",
    "        \n",
    "        # Test if we have a factor.\n",
    "        if number % factor == 0:\n",
    "            \n",
    "            # Call the function for the number divided by the factor.\n",
    "            prime_factor_list = prime_factors(int(number/factor), prime_factor_list)\n",
    "            \n",
    "            # Add the factor to the list.\n",
    "            prime_factor_list.append(factor)\n",
    "            \n",
    "            # Return the list\n",
    "            return prime_factor_list"
   ]
  },
  {
   "cell_type": "code",
   "execution_count": 3,
   "id": "694e986a",
   "metadata": {},
   "outputs": [
    {
     "name": "stdout",
     "output_type": "stream",
     "text": [
      "[5, 5, 5, 2, 2, 2]\n"
     ]
    }
   ],
   "source": [
    "print(prime_factors(1000))"
   ]
  },
  {
   "cell_type": "code",
   "execution_count": 4,
   "id": "6ed3a8d8",
   "metadata": {},
   "outputs": [],
   "source": [
    "test_number = 13195\n",
    "start_time = time.time()\n",
    "test_solution = prime_factors(test_number, [])\n",
    "test_solution = np.max(test_solution)\n",
    "end_time = time.time()"
   ]
  },
  {
   "cell_type": "code",
   "execution_count": 5,
   "id": "d59cdb40",
   "metadata": {},
   "outputs": [
    {
     "name": "stdout",
     "output_type": "stream",
     "text": [
      "The largest prime factor of 13,195 is 29, computed in 0.000000s.\n"
     ]
    }
   ],
   "source": [
    "print(f\"The largest prime factor of {test_number:,} is {test_solution:,}, computed in {end_time - start_time:.6f}s.\")"
   ]
  },
  {
   "cell_type": "code",
   "execution_count": 6,
   "id": "fc71c32a",
   "metadata": {},
   "outputs": [],
   "source": [
    "problem_number = 600851475143 \n",
    "start_time = time.time()\n",
    "problem_solution_list = prime_factors(problem_number, [])\n",
    "problem_solution = np.max(problem_solution_list)\n",
    "end_time = time.time()"
   ]
  },
  {
   "cell_type": "code",
   "execution_count": 7,
   "id": "e7d75e6e",
   "metadata": {},
   "outputs": [
    {
     "name": "stdout",
     "output_type": "stream",
     "text": [
      "The prime factors of 600,851,475,143 are [6857, 1471, 839, 71], the largest of which is 6,857, computed in 0.000496s.\n"
     ]
    }
   ],
   "source": [
    "print(f\"The prime factors of {problem_number:,} are {problem_solution_list}, the largest of which is {problem_solution:,}, computed in {end_time - start_time:.6f}s.\")"
   ]
  },
  {
   "cell_type": "code",
   "execution_count": 8,
   "id": "944e8f31",
   "metadata": {},
   "outputs": [],
   "source": [
    "# Can slightly modify function to only return the largest factor by returning the last factor found.\n",
    "\n",
    "'''\n",
    "Finds the largest prime factor of the number. It will search numbers until a factor is found, then divides the number \n",
    "by our factor and calls the function on the divided number. It stores the last factor as the largest prime factor.\n",
    "Since we are searching up from 2, the last factor found will be the largest by construction.\n",
    "\n",
    "eg. \n",
    ">>> find_largest_prime_factor(1000)\n",
    ">>> 5\n",
    "'''\n",
    "\n",
    "def find_largest_prime_factor(number : int, largest_prime_factor : int = 1) -> int:\n",
    "    '''\n",
    "--- Function Description --------------------------------------------------------------------------------------------------\n",
    "    Finds the largest prime factor of the number. It will search numbers until a factor is found, then divides the number \n",
    "    by our factor and calls the function on the divided number. It stores the last factor as the largest prime factor.\n",
    "    Since we are searching up from 2, the last factor found will be the largest by construction.\n",
    "---------------------------------------------------------------------------------------------------------------------------\n",
    "\n",
    "--- Function Inputs -------------------------------------------------------------------------------------------------------\n",
    "    : int : number : The number for which the prime factors are to be found\n",
    "\n",
    "    : int : largest_prime_factor : The last of prime factor found. The factors are found through recursion so the\n",
    "                                   largest_prime_factor should be passed to each level of recursion. This parameter \n",
    "                                   does not need to be passed to the function by the user.\n",
    "---------------------------------------------------------------------------------------------------------------------------\n",
    "\n",
    "--- Function Outputs ------------------------------------------------------------------------------------------------------\n",
    "    : int : largest_prime_factor : The largest of prime factors found.\n",
    "---------------------------------------------------------------------------------------------------------------------------\n",
    "\n",
    "--- Function Examples -----------------------------------------------------------------------------------------------------\n",
    "    >>> find_largest_prime_factor(1000)\n",
    "    >>> 5\n",
    "---------------------------------------------------------------------------------------------------------------------------\n",
    "'''\n",
    "    # Check types of function inputs:\n",
    "    if not isinstance(number, int): raise ValueError('Please enter an integer > 0 for the number argument.')\n",
    "    if not isinstance(largest_prime_factor, int): raise ValueError('largest_prime_factor argument has found non integer value.')\n",
    "    \n",
    "    # If the number is 1, then the last factor found was the last and therfore largest.\n",
    "    if number == 1:\n",
    "        return largest_prime_factor\n",
    "    \n",
    "    # Search through the numbers up from 2, by construction the first factor found will be the smallest.\n",
    "    for factor in range(2, number+1):\n",
    "        \n",
    "        # Check if we have a factor of the number.\n",
    "        if number % factor == 0:\n",
    "            \n",
    "            # Save the last factor found.\n",
    "            largest_prime_factor = factor\n",
    "            \n",
    "            # Call the function with the number divided by the smallest factor.\n",
    "            largest_prime_factor = find_largest_prime_factor(int(number/factor), largest_prime_factor)\n",
    "            \n",
    "            # Return the last factor found.\n",
    "            return largest_prime_factor"
   ]
  },
  {
   "cell_type": "code",
   "execution_count": 9,
   "id": "aa079aa0",
   "metadata": {},
   "outputs": [],
   "source": [
    "problem_number = 600851475143 \n",
    "start_time = time.time()\n",
    "problem_solution = find_largest_prime_factor(problem_number)\n",
    "end_time = time.time()"
   ]
  },
  {
   "cell_type": "code",
   "execution_count": 10,
   "id": "2aa8dfee",
   "metadata": {},
   "outputs": [
    {
     "name": "stdout",
     "output_type": "stream",
     "text": [
      "The largest prime factor of 600,851,475,143 is 6,857, computed in 0.000496s.\n"
     ]
    }
   ],
   "source": [
    "print(f\"The largest prime factor of {problem_number:,} is {problem_solution:,}, computed in {end_time - start_time:.6f}s.\")"
   ]
  },
  {
   "cell_type": "markdown",
   "id": "00593970",
   "metadata": {},
   "source": [
    "### Problem 3 Solution: \n",
    "\n",
    "The largest prime factor of 600,851,475,143 is 6,857."
   ]
  }
 ],
 "metadata": {
  "kernelspec": {
   "display_name": "Python 3",
   "language": "python",
   "name": "python3"
  },
  "language_info": {
   "codemirror_mode": {
    "name": "ipython",
    "version": 3
   },
   "file_extension": ".py",
   "mimetype": "text/x-python",
   "name": "python",
   "nbconvert_exporter": "python",
   "pygments_lexer": "ipython3",
   "version": "3.8.8"
  }
 },
 "nbformat": 4,
 "nbformat_minor": 5
}
