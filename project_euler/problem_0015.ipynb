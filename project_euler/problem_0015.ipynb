{
 "cells": [
  {
   "cell_type": "markdown",
   "id": "ea08d00b",
   "metadata": {},
   "source": [
    "## Problem 15: Lattice Paths\n",
    "\n",
    "Starting in the top left corner of a 2×2 grid, and only being able to move to the right and down, there are exactly 6 routes to the bottom right corner.\n",
    "\n",
    "How many such routes are there through a 20×20 grid?"
   ]
  },
  {
   "cell_type": "code",
   "execution_count": 1,
   "id": "bdad8eb1",
   "metadata": {},
   "outputs": [],
   "source": [
    "# Need to make 20 right moves and 20 down moves, 40 moves in total.\n",
    "# One right move is indistinguishable from another: Rrd is the same as rRd.\n",
    "\n",
    "# First move is either a right or down: (20/40 + 20/40)\n",
    "# Second move is either a right or down: (20/40 * 19/39 + 20/40 * 20/39 + 20/40 * 19/39 + 20/40 * 20/39)\n",
    "\n",
    "# 20 * 19 * 18 * 17 * ...\n",
    "# -----------------------\n",
    "# 40 * 39 * 38 * 37 * ...\n",
    "\n",
    "# Number of combinations: 40 C 20"
   ]
  },
  {
   "cell_type": "code",
   "execution_count": 2,
   "id": "61996b31",
   "metadata": {},
   "outputs": [],
   "source": [
    "''' \n",
    "Calculates the factorial of a number using recursion. Cache the values so we only need to caluclate (2 * grid_size)!, then\n",
    "the other factorials in nCr will have been cached.\n",
    "\n",
    "Base case : 1 : 1\n",
    "Other case : n : n *= factorial(n-1)\n",
    "\n",
    "eg:\n",
    ">>> factorial(5)\n",
    ">>> 120\n",
    "'''\n",
    "\n",
    "from functools import lru_cache\n",
    "\n",
    "@lru_cache(maxsize=1_000)\n",
    "def factorial(number : int) -> int:\n",
    "    \n",
    "    '''\n",
    "    --- Function Description --------------------------------------------------------------------------------------------------\n",
    "        Calculates the factorial of a number using recursion. Cache the values so we only need to caluclate (2 * grid_size)!, \n",
    "        then the other factorials in nCr will have been cached.\n",
    "\n",
    "        Base case : 1 : 1\n",
    "        Other case : n : n *= factorial(n-1)\n",
    "    ---------------------------------------------------------------------------------------------------------------------------\n",
    "    \n",
    "    --- Function Inputs -------------------------------------------------------------------------------------------------------\n",
    "        : int : number : The number to calculate the factorial of.\n",
    "    ---------------------------------------------------------------------------------------------------------------------------\n",
    "    \n",
    "    --- Function Outputs ------------------------------------------------------------------------------------------------------\n",
    "        : int : The factorial of the number.\n",
    "    ---------------------------------------------------------------------------------------------------------------------------\n",
    "    \n",
    "    --- Function Examples -----------------------------------------------------------------------------------------------------\n",
    "        >>> factorial(5)\n",
    "        >>> 120\n",
    "    ---------------------------------------------------------------------------------------------------------------------------\n",
    "    '''\n",
    "    \n",
    "    # Check types of function inputs:\n",
    "    if not isinstance(number, int): raise ValueError('Please enter an integer > 0 for the number argument.')\n",
    "    if number < 1: raise ValueError('Please enter an integer > 0 for the number argument.')\n",
    "    \n",
    "    if number == 1:\n",
    "        return 1\n",
    "    else:\n",
    "        return number * factorial(number - 1)"
   ]
  },
  {
   "cell_type": "code",
   "execution_count": 3,
   "id": "260d2f1c",
   "metadata": {},
   "outputs": [],
   "source": [
    "''' \n",
    "Calculates the binomail function nCr.\n",
    "\n",
    "nCr = n! / (r! (n-r)!)\n",
    "\n",
    "eg:\n",
    ">>> nCr(4,2)\n",
    ">>> 6\n",
    "'''\n",
    "\n",
    "def nCr(n : int, r : int) -> int:\n",
    "    \n",
    "    '''\n",
    "    --- Function Description --------------------------------------------------------------------------------------------------\n",
    "        Calculates the binomail function nCr.\n",
    "\n",
    "        nCr = n! / (r! (n-r)!)\n",
    "    ---------------------------------------------------------------------------------------------------------------------------\n",
    "    \n",
    "    --- Function Inputs -------------------------------------------------------------------------------------------------------\n",
    "        : int : n : The total number to choose from.\n",
    "        : int : n : The number to choose.\n",
    "    ---------------------------------------------------------------------------------------------------------------------------\n",
    "    \n",
    "    --- Function Outputs ------------------------------------------------------------------------------------------------------\n",
    "        : int : nCr of n and r: nCr = n! / (r! (n-r)!)\n",
    "    ---------------------------------------------------------------------------------------------------------------------------\n",
    "    \n",
    "    --- Function Examples -----------------------------------------------------------------------------------------------------\n",
    "        >>> nCr(4,2)\n",
    "        >>> 6\n",
    "    ---------------------------------------------------------------------------------------------------------------------------\n",
    "    '''\n",
    "    \n",
    "    # Check types of function inputs:\n",
    "    if not isinstance(n, int): raise ValueError('Please enter an integer > 0 for the n argument.')\n",
    "    if n < 1: raise ValueError('Please enter an integer > 0 for the n argument.')\n",
    "    if not isinstance(r, int): raise ValueError('Please enter an integer > 0 for the r argument.')\n",
    "    if r < 1: raise ValueError('Please enter an integer > 0 for the r argument.')\n",
    "    \n",
    "    return int(factorial(n) / ((factorial(r)) * (factorial(n - r))))"
   ]
  },
  {
   "cell_type": "code",
   "execution_count": 4,
   "id": "f0fd4d3c",
   "metadata": {},
   "outputs": [
    {
     "name": "stdout",
     "output_type": "stream",
     "text": [
      "The number of routes are there through a 20×20 grid, starting at the top left corner and only being able to move to the right\n",
      "and down, is 137,846,528,820.\n"
     ]
    }
   ],
   "source": [
    "grid_size = 20\n",
    "solution = nCr(2 * grid_size, grid_size)\n",
    "\n",
    "print(f'The number of routes are there through a {grid_size}×{grid_size} grid, starting at the top left corner and only being able to move to the right') \n",
    "print(f'and down, is {solution:,}.')"
   ]
  },
  {
   "cell_type": "markdown",
   "id": "9cc75c87",
   "metadata": {},
   "source": [
    "### Problem 15 Solution:\n",
    "\n",
    "The number of routes are there through a 20×20 grid, starting at the top left corner and only being able to move to the right and down, is 137,846,528,820."
   ]
  }
 ],
 "metadata": {
  "kernelspec": {
   "display_name": "Python 3",
   "language": "python",
   "name": "python3"
  },
  "language_info": {
   "codemirror_mode": {
    "name": "ipython",
    "version": 3
   },
   "file_extension": ".py",
   "mimetype": "text/x-python",
   "name": "python",
   "nbconvert_exporter": "python",
   "pygments_lexer": "ipython3",
   "version": "3.8.8"
  }
 },
 "nbformat": 4,
 "nbformat_minor": 5
}
