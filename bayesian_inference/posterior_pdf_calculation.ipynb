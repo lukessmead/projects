{
 "cells": [
  {
   "cell_type": "markdown",
   "id": "f3b78c13",
   "metadata": {},
   "source": [
    "### Posterior PDFs"
   ]
  },
  {
   "cell_type": "markdown",
   "id": "48d58c81",
   "metadata": {},
   "source": [
    "#### Starry Night"
   ]
  },
  {
   "cell_type": "markdown",
   "id": "3a4a74cf",
   "metadata": {},
   "source": [
    "50 stars were observed in a 10 deg$^2$ patch of the sky, then assuming a Poissonian distribution for the number of stars observed per 10deg$^2$ of sky. Then the number of stars per 10 deg$^2$ of sky is $T=10S$ where $S$ is the number of stars per deg$^2$. The posterior probability density function (PDF) for $T$ is given by"
   ]
  },
  {
   "cell_type": "markdown",
   "id": "adeea872",
   "metadata": {},
   "source": [
    "\\begin{align}\n",
    "P(T|n=50) = \\frac{P(n=50|T)P(T)}{P(n=50)}\n",
    "\\end{align}\n",
    "where\n",
    "\\begin{align}\n",
    "    P(n=50|T) &= \\frac{e^{-T}T^n}{n!} \\\\\n",
    "    P(T) &= \\frac{1}{300}\\Theta (x)\\Theta (300-x) \\\\\n",
    "    P(n=50) &= \\int_{0}^{300} P(n=50|T)P(T)dT\n",
    "\\end{align}\n",
    "therefore,\n",
    "\\begin{align}\n",
    "    P(T|n=50) = \\left. \\frac{e^{-T}T^n}{n!} \\middle/ \\int_{0}^{300} \\frac{e^{-T}T^n}{n!}dT  \\right. .\n",
    "\\end{align}"
   ]
  },
  {
   "cell_type": "markdown",
   "id": "daa21d17",
   "metadata": {},
   "source": [
    "The integral\n",
    "\\begin{align}\n",
    "    \\int_{0}^{300} e^{-T}T^ndT \\approx n!\n",
    "\\end{align}\n",
    "by comparing to the integral definition of the factorial function\n",
    "\\begin{align}\n",
    "    \\int_{0}^{\\infty} e^{-T}T^ndT = n!\n",
    "\\end{align}\n",
    "So the posterior PDF for $T$ becomes\n",
    "\\begin{align}\n",
    "    P(T|n=50) = \\left. \\frac{e^{-T}T^n}{n!} \\right.\n",
    "\\end{align}\n",
    "for $T\\in(0,300)$ and $n=50$. The posterior PDF for $S$ is given by the substitution of $T=10S$ and restricting $S$ such that $S\\in (0,30)$\n",
    "\\begin{align}\n",
    "    P(S|n=50) = \\left. \\frac{e^{-10S}(10S)^n}{n!} \\right.\n",
    "\\end{align}"
   ]
  },
  {
   "cell_type": "markdown",
   "id": "0a15411e",
   "metadata": {},
   "source": [
    "Plots of the posterior PDFs for $T$ and $S$ are shown below"
   ]
  },
  {
   "cell_type": "code",
   "execution_count": 1,
   "id": "24d475f6",
   "metadata": {},
   "outputs": [],
   "source": [
    "import numpy as np\n",
    "import matplotlib\n",
    "from matplotlib import pyplot as plt\n",
    "\n",
    "matplotlib.rcParams['font.sans-serif'] = \"Times New Roman\""
   ]
  },
  {
   "cell_type": "code",
   "execution_count": 2,
   "id": "1200ec49",
   "metadata": {},
   "outputs": [],
   "source": [
    "# Posible values of  T and S\n",
    "t_values = np.linspace(0, 300, 10000)\n",
    "s_values = np.linspace(0, 30, 10000)\n",
    "\n",
    "# Posterior of T given in the equation above\n",
    "def posterior(x):\n",
    "    return np.exp(-1.0 * x) * x**50 / np.math.factorial(50)\n",
    "\n",
    "# Calculate the T and S posteriors\n",
    "t_posterior = posterior(t_values)\n",
    "s_posterior = posterior(10* s_values)"
   ]
  },
  {
   "cell_type": "code",
   "execution_count": 8,
   "id": "6c8fb4ad",
   "metadata": {},
   "outputs": [
    {
     "data": {
      "text/plain": [
       "<Figure size 432x288 with 0 Axes>"
      ]
     },
     "metadata": {},
     "output_type": "display_data"
    },
    {
     "data": {
      "image/png": "[encoded data removed]",
      "text/plain": [
       "<Figure size 720x360 with 2 Axes>"
      ]
     },
     "metadata": {
      "needs_background": "light"
     },
     "output_type": "display_data"
    }
   ],
   "source": [
    "# Create plot of the posteriors of T and S\n",
    "plt.clf()\n",
    "fig, (ax1, ax2) = plt.subplots(1, 2, figsize=(10,5))\n",
    "\n",
    "ax1.plot(t_values, t_posterior, color=\"k\", label=\"Data\")\n",
    "\n",
    "ax1.set_xlabel('T', fontsize=25)\n",
    "ax1.set_ylabel('$P(T|n=50)$', fontsize=25)\n",
    "\n",
    "ax1.tick_params(labelsize=20)\n",
    "\n",
    "ax1.set_xlim([0.0, 300.0])\n",
    "ax1.set_ylim([0.0, 0.06])\n",
    "\n",
    "ax2.plot(s_values, s_posterior, color=\"k\", label=\"Data\")\n",
    "\n",
    "ax2.set_xlabel('S', fontsize=25)\n",
    "ax2.set_ylabel('$P(S|n=50)$', fontsize=25)\n",
    "\n",
    "ax2.tick_params(labelsize=20)\n",
    "\n",
    "ax2.set_xlim([0.0, 30.0])\n",
    "ax2.set_ylim([0.0, 0.06])\n",
    "\n",
    "fig.tight_layout(pad=1.0)"
   ]
  },
  {
   "cell_type": "markdown",
   "id": "da303e21",
   "metadata": {},
   "source": [
    "The mean is calculated by performing a simple numerical integration\n",
    "\\begin{align}\n",
    "    \\int_{0}^{30} \\frac{e^{-10S}(10S)^n}{n!} S dS \\approx \\sum_{i=0}^{N} \\frac{e^{-10S}(10S)^n}{n!} \\cdot S \\cdot \\Delta S\n",
    "\\end{align}\n",
    "where $N$ is the total number of points at which $S$ is evaluated, and $\\Delta S$ is the incremental change in $S$ between two evaluation points. This calculation is performed below."
   ]
  },
  {
   "cell_type": "code",
   "execution_count": 9,
   "id": "f8384b40",
   "metadata": {},
   "outputs": [
    {
     "name": "stdout",
     "output_type": "stream",
     "text": [
      "The mean of T is 51.00.\n",
      "The mean of S is 5.10.\n"
     ]
    }
   ],
   "source": [
    "t_delta = t_values[1] - t_values[0] \n",
    "t_mean = np.sum(t_posterior * t_values * t_delta)\n",
    "print(\"The mean of T is {:.2f}.\".format(t_mean))\n",
    "\n",
    "s_delta = s_values[1] - s_values[0]\n",
    "s_mean = np.sum(s_posterior * s_values * s_delta * 10.0)\n",
    "print(\"The mean of S is {:.2f}.\".format(s_mean))"
   ]
  },
  {
   "cell_type": "markdown",
   "id": "c37c7872",
   "metadata": {},
   "source": [
    "To calculate the mode, consider\n",
    "\\begin{align}\n",
    "    \\frac{d}{dT}\\left[ \\mathrm{ln}(P(T|n)) \\right] &= \\frac{d}{dp}\\left[ \\mathrm{ln}(e^{-T}T^n) \\right]\\\\\n",
    "    &= \\frac{d}{dp}\\left[ -T + n \\mathrm{ln}(T) \\right] \\\\\n",
    "    &= \\frac{n}{T_{mode}}-1 = 0\n",
    "\\end{align}\n",
    "therefore,\n",
    "\\begin{align}\n",
    "    T_{mode} &= n = 50 \\\\\n",
    "    S_{mode} &= T_{mode}/10 = 5.\n",
    "\\end{align}\n",
    "\n",
    "The mode was also approximated by finding the point where the posterior PDF has a maximal value and gave a value of 5.0. It was expected that the mean and mode of $S$ are not equal, as the posterior PDF is not symmetric. The mode can be estimated directly from the posterior as shown below."
   ]
  },
  {
   "cell_type": "code",
   "execution_count": 10,
   "id": "dcfb69aa",
   "metadata": {},
   "outputs": [
    {
     "name": "stdout",
     "output_type": "stream",
     "text": [
      "The mode of T is 50.02.\n",
      "The mode of S is 5.00.\n"
     ]
    }
   ],
   "source": [
    "t_mode = t_values[np.argmax(t_posterior)]\n",
    "print(\"The mode of T is {:.2f}.\".format(t_mode))\n",
    "\n",
    "s_mode = s_values[np.argmax(s_posterior)]\n",
    "print(\"The mode of S is {:.2f}.\".format(s_mode))"
   ]
  },
  {
   "cell_type": "markdown",
   "id": "2232dbee",
   "metadata": {},
   "source": [
    "To incorporate additional information from a measurement of $S=7.7\\pm0.3$ where the error is Gaussian, a new posterior PDF is calculated using the previously calculated posterior as the new prior and the new likelihood, which is the new measurement of $S$. The new posterior is then\n",
    "\\begin{align}\n",
    "    P(S|n,\\mu,\\sigma) = \\left.\\frac{e^{-10S}(10S)^{50}}{50!} \\cdot \\frac{1}{\\sqrt{2\\pi}\\cdot 0.3}e^{-\\frac{\\left( S - 7.7 \\right)^2}{2\\cdot 0.3^2}} \\middle/ \\int_{0}^{30} \\frac{e^{-10S}(10S)^{50}}{50!} \\cdot \\frac{1}{\\sqrt{2\\pi}\\cdot 0.3}e^{-\\frac{\\left( S - 7.7 \\right)^2}{2\\cdot 0.3^2}} dS \\right.\n",
    "\\end{align}\n",
    "where $n, \\mu,$ and $\\sigma$ have been input as 50, 7.7, and 0.3 respectively. The integral in the denominator gives the normalisation of the posterior PDF. Plots of this distribution for $T=10S$ and $S$ are shown below"
   ]
  },
  {
   "cell_type": "code",
   "execution_count": 11,
   "id": "d2835d6c",
   "metadata": {},
   "outputs": [],
   "source": [
    "# Gaussian function\n",
    "def my_gaussian(x, mean, error):\n",
    "    return (1 / (np.sqrt(2*np.pi) * error)) * np.exp(-np.power((x - mean), 2)/(2 * error**2))\n",
    "\n",
    "\n",
    "# Update posterior function with S = T/10 substitution\n",
    "def updated_posterior(measurement_type, x, mean, error):\n",
    "    delta = x[1]-x[0]\n",
    "    if measurement_type == 'T':\n",
    "        return posterior_calculation(x, x/10.0, delta, mean, error)\n",
    "    elif measurement_type == 'S':\n",
    "        return posterior_calculation(x*10.0, x, delta, mean, error)\n",
    "\n",
    "# Posterior calculation using Bayes Theorem\n",
    "def posterior_calculation(x1, x2, x_diff, mean, error):\n",
    "    numerator = posterior(x1) * my_gaussian(x2, mean, error)\n",
    "    integral = np.sum(numerator * x_diff)\n",
    "    return numerator / integral"
   ]
  },
  {
   "cell_type": "code",
   "execution_count": 12,
   "id": "39c44689",
   "metadata": {},
   "outputs": [],
   "source": [
    "s_measurement_mean = 7.7\n",
    "s_measurement_error = 0.3"
   ]
  },
  {
   "cell_type": "code",
   "execution_count": 13,
   "id": "f80a7f83",
   "metadata": {},
   "outputs": [],
   "source": [
    "t_posterior = updated_posterior('T', t_values, s_measurement_mean, s_measurement_error)\n",
    "s_posterior = updated_posterior('S', s_values, s_measurement_mean, s_measurement_error)"
   ]
  },
  {
   "cell_type": "code",
   "execution_count": 16,
   "id": "a6331173",
   "metadata": {},
   "outputs": [
    {
     "data": {
      "text/plain": [
       "<Figure size 432x288 with 0 Axes>"
      ]
     },
     "metadata": {},
     "output_type": "display_data"
    },
    {
     "data": {
      "image/png": "[encoded data removed]",
      "text/plain": [
       "<Figure size 720x360 with 2 Axes>"
      ]
     },
     "metadata": {
      "needs_background": "light"
     },
     "output_type": "display_data"
    }
   ],
   "source": [
    "# Create plot of the posteriors of T and S\n",
    "plt.clf()\n",
    "fig, (ax1, ax2) = plt.subplots(1, 2, figsize=(10,5))\n",
    "\n",
    "ax1.plot(t_values, t_posterior, color=\"k\", label=\"Data\")\n",
    "\n",
    "ax1.set_xlabel('T', fontsize=25)\n",
    "ax1.set_ylabel('$P(T|n=50)$', fontsize=25)\n",
    "\n",
    "ax1.tick_params(labelsize=20)\n",
    "\n",
    "ax1.set_xlim([0.0, 100.0])\n",
    "ax1.set_ylim([0.0, 0.15])\n",
    "\n",
    "ax2.plot(s_values, s_posterior, color=\"k\", label=\"Data\")\n",
    "\n",
    "ax2.set_xlabel('S', fontsize=25)\n",
    "ax2.set_ylabel('$P(S|n=50)$', fontsize=25)\n",
    "\n",
    "ax2.tick_params(labelsize=20)\n",
    "\n",
    "ax2.set_xlim([0.0, 10.0])\n",
    "ax2.set_ylim([0.0, 1.5])\n",
    "\n",
    "fig.tight_layout(pad=1.0)"
   ]
  },
  {
   "cell_type": "markdown",
   "id": "1b039a38",
   "metadata": {},
   "source": [
    "The mean and mode were calculated for each of these distributions are are shown below. As before, it was expected that the mean and mode for each distribution would not be equal, due to the asymmetry in the posterior PDF."
   ]
  },
  {
   "cell_type": "code",
   "execution_count": 17,
   "id": "5fd917f4",
   "metadata": {},
   "outputs": [
    {
     "name": "stdout",
     "output_type": "stream",
     "text": [
      "The mean of T is 74.0835.\n",
      "The mode of T is 74.0774.\n",
      "\n",
      "The mean of S is 74.0835.\n",
      "The mode of S is 7.4077.\n"
     ]
    }
   ],
   "source": [
    "t_delta = t_values[1] - t_values[0] \n",
    "t_mean = np.sum(t_posterior * t_values * t_delta)\n",
    "print(\"The mean of T is {:.4f}.\".format(t_mean))\n",
    "\n",
    "t_mode = t_values[np.argmax(t_posterior)]\n",
    "print(\"The mode of T is {:.4f}.\".format(t_mode))\n",
    "print()\n",
    "\n",
    "s_delta = s_values[1] - s_values[0]\n",
    "s_mean = np.sum(s_posterior * s_values * s_delta * 10.0)\n",
    "print(\"The mean of S is {:.4f}.\".format(s_mean))\n",
    "\n",
    "s_mode = s_values[np.argmax(s_posterior)]\n",
    "print(\"The mode of S is {:.4f}.\".format(s_mode))"
   ]
  }
 ],
 "metadata": {
  "kernelspec": {
   "display_name": "Python 3",
   "language": "python",
   "name": "python3"
  },
  "language_info": {
   "codemirror_mode": {
    "name": "ipython",
    "version": 3
   },
   "file_extension": ".py",
   "mimetype": "text/x-python",
   "name": "python",
   "nbconvert_exporter": "python",
   "pygments_lexer": "ipython3",
   "version": "3.8.8"
  }
 },
 "nbformat": 4,
 "nbformat_minor": 5
}
