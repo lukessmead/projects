{
 "cells": [
  {
   "cell_type": "markdown",
   "id": "37bca263",
   "metadata": {},
   "source": [
    "### Bayesian Statistics"
   ]
  },
  {
   "cell_type": "markdown",
   "id": "d23058b6",
   "metadata": {},
   "source": [
    "Bayes theorem is used to update probability distributions after obtaining new data. Given two events, $A$ and $B$, the conditional probability if $A$ given $B$ is given by:\n",
    "\n",
    "\\begin{align}\n",
    "    P(A | B) = \\frac{P(B | A) P(A)}{P(B)}\n",
    "\\end{align}"
   ]
  },
  {
   "cell_type": "markdown",
   "id": "ac9b51b2",
   "metadata": {},
   "source": [
    "where $P(A)$ is the *prior* probability distribution of $A$, $P(B)$ is the *evidence*, and $P(B|A)$ is the *likelihood* function. The likelihood function is the probability distribution of the evidence given that $A$ is true."
   ]
  },
  {
   "cell_type": "markdown",
   "id": "89739970",
   "metadata": {},
   "source": [
    "#### Example"
   ]
  },
  {
   "cell_type": "markdown",
   "id": "e10f6faa",
   "metadata": {},
   "source": [
    "You assume the average age, $a$, of people at CERN is in the range $[20, 80]$. The prior distribution for the average age is given by"
   ]
  },
  {
   "cell_type": "markdown",
   "id": "b2d302ae",
   "metadata": {},
   "source": [
    "\\begin{align}\n",
    "    P(a) = \\frac{1}{(80 - 20)} \\Theta (20 - a)\\Theta (80 - a)\n",
    "\\end{align}"
   ]
  },
  {
   "cell_type": "markdown",
   "id": "3493f249",
   "metadata": {},
   "source": [
    "The ages of 25 people are given to you, denoted as $ \\overline{m} $. The likelihood function is given by"
   ]
  },
  {
   "cell_type": "markdown",
   "id": "0707a793",
   "metadata": {},
   "source": [
    "\\begin{align}\n",
    "    P(\\overline{m}|a) = \\prod_i \\frac{1}{\\sqrt{2\\pi}}e^{-\\frac{1}{2}\\left( m_i - a \\right)^2}\n",
    "\\end{align}"
   ]
  },
  {
   "cell_type": "markdown",
   "id": "5cff46e9",
   "metadata": {},
   "source": [
    "The evidence is given by\n",
    "\n",
    "\\begin{align}\n",
    "    P(\\overline{m}) = \\int P(a) P(\\overline{m} | a) da\n",
    "\\end{align}"
   ]
  },
  {
   "cell_type": "code",
   "execution_count": 2,
   "id": "eba38608",
   "metadata": {},
   "outputs": [],
   "source": [
    "import time\n",
    "import numpy as np\n",
    "import matplotlib\n",
    "from matplotlib import pyplot as plt\n",
    "\n",
    "matplotlib.rcParams['font.sans-serif'] = \"Times New Roman\""
   ]
  },
  {
   "cell_type": "code",
   "execution_count": 3,
   "id": "b8e1ecce",
   "metadata": {},
   "outputs": [
    {
     "name": "stdout",
     "output_type": "stream",
     "text": [
      "[72.51794039 43.14275236 64.80352943 63.21856455 40.90738556 58.405674\n",
      " 52.44831909 49.5511605  60.56321991 44.8333287  54.07306796 51.74962069\n",
      " 58.11712511 47.95137857 44.36776004 57.37115097 58.26159771 40.57375502\n",
      " 42.88252265 50.6913743  53.53919351 60.09017869 50.75767422 40.51820625\n",
      " 76.02495868]\n"
     ]
    }
   ],
   "source": [
    "# Produce data set of recorded ages with mean 53 and standard deviation 10.\n",
    "actual_average = 53.0\n",
    "actual_spread = 10.0\n",
    "ages = np.random.normal(actual_average, actual_spread, 25)\n",
    "\n",
    "average_values = np.linspace(20, 80, 1000)\n",
    "\n",
    "print(ages)"
   ]
  },
  {
   "cell_type": "code",
   "execution_count": 4,
   "id": "bf1bc119",
   "metadata": {},
   "outputs": [],
   "source": [
    "from mpmath import mpf\n",
    "\n",
    "# Calculate probability of x given a flat Probability Density Function (PDF) between x_low and x_high.\n",
    "def flat_probability(x, x_low, x_high):\n",
    "    return 1/float(x_high - x_low) * (x_low <= x) * (x <= x_high)\n",
    "\n",
    "# Calculate the probabilty of the data given the model.\n",
    "def probability_model_parameters(data, prediction):\n",
    "    total_prod = 1.0\n",
    "    for datum in data:\n",
    "        total_prod *= mpf((1 / (np.sqrt(2 * np.pi))) * np.exp(-0.5 * np.power((datum - prediction), 2)))\n",
    "    return total_prod\n",
    "\n",
    "# Calculate Bayesian quantities given the data and the range of the model\n",
    "def bayes_parameters(data, values):\n",
    "    \n",
    "    evidence = 0\n",
    "    \n",
    "    priors = []\n",
    "    likelihoods = []\n",
    "    posteriors = []\n",
    "    \n",
    "    delta = values[1] - values[0]\n",
    "    \n",
    "    for value in values:\n",
    "        \n",
    "        # Calculate prior distribution value (flat distirbution)\n",
    "        prior = flat_probability(value, np.min(values), np.max(values))\n",
    "        priors.append(prior)\n",
    "        \n",
    "        # Calculate likelihood of the data given the model value\n",
    "        likelihood = probability_model_parameters(data, value)\n",
    "        likelihoods.append(likelihood)\n",
    "        \n",
    "        # Calculate the numerator of the posterior (prior * likelihood)\n",
    "        posterior = prior * likelihood\n",
    "        posteriors.append(posterior)\n",
    "        \n",
    "        # Calculate the evidence\n",
    "        evidence += posterior * delta\n",
    "    \n",
    "    #Calculate the full posterior with evidence calcualted\n",
    "    posteriors = [posterior / evidence for posterior in posteriors]\n",
    "    \n",
    "    # Return all information\n",
    "    return priors, likelihoods, evidence, posteriors"
   ]
  },
  {
   "cell_type": "code",
   "execution_count": 13,
   "id": "1f1a2ac1",
   "metadata": {},
   "outputs": [],
   "source": [
    "# Calcuate all Bayesian information on the problem\n",
    "priors, likelihoods, evidence, posteriors = bayes_parameters(ages, average_values)"
   ]
  },
  {
   "cell_type": "code",
   "execution_count": 14,
   "id": "e0c9024a",
   "metadata": {},
   "outputs": [
    {
     "data": {
      "text/plain": [
       "(0.0, 0.021666666666666667)"
      ]
     },
     "execution_count": 14,
     "metadata": {},
     "output_type": "execute_result"
    },
    {
     "data": {
      "text/plain": [
       "<Figure size 432x288 with 0 Axes>"
      ]
     },
     "metadata": {},
     "output_type": "display_data"
    },
    {
     "data": {
      "image/png": "[encoded data removed]",
      "text/plain": [
       "<Figure size 360x360 with 1 Axes>"
      ]
     },
     "metadata": {
      "needs_background": "light"
     },
     "output_type": "display_data"
    }
   ],
   "source": [
    "plt.clf()\n",
    "fig = plt.figure(figsize=(5,5))\n",
    "\n",
    "plt.title('Prior Distribution', fontsize=30)\n",
    "\n",
    "plt.plot(average_values, priors, color=\"k\", label=\"P\")\n",
    "\n",
    "plt.xlabel('Age [y]', fontsize=30)\n",
    "plt.ylabel('P(a)', fontsize=30)\n",
    "\n",
    "plt.tick_params(labelsize=24)\n",
    "\n",
    "plt.xlim(np.min(average_values), np.max(average_values))\n",
    "plt.ylim(0.0, 1.3 * np.max(priors))"
   ]
  },
  {
   "cell_type": "code",
   "execution_count": 19,
   "id": "0a7c5abc",
   "metadata": {},
   "outputs": [
    {
     "data": {
      "text/plain": [
       "(0.0, 2.501953884376334)"
      ]
     },
     "execution_count": 19,
     "metadata": {},
     "output_type": "execute_result"
    },
    {
     "data": {
      "text/plain": [
       "<Figure size 432x288 with 0 Axes>"
      ]
     },
     "metadata": {},
     "output_type": "display_data"
    },
    {
     "data": {
      "image/png": "[encoded data removed]",
      "text/plain": [
       "<Figure size 360x360 with 1 Axes>"
      ]
     },
     "metadata": {
      "needs_background": "light"
     },
     "output_type": "display_data"
    }
   ],
   "source": [
    "plt.clf()\n",
    "fig = plt.figure(figsize=(5,5))\n",
    "\n",
    "plt.title('Posterior Distribution', fontsize=30)\n",
    "\n",
    "plt.plot(average_values, posteriors, color=\"k\", label=\"P\")\n",
    "\n",
    "plt.xlabel('Age [y]', fontsize=30)\n",
    "plt.ylabel('P(a | m)', fontsize=30)\n",
    "\n",
    "plt.xticks(fontsize=24)\n",
    "plt.yticks(fontsize=24)\n",
    "\n",
    "plt.xlim(np.min(average_values), np.max(average_values))\n",
    "ymin,ymax = plt.ylim()\n",
    "plt.ylim(0.0, 1.2 * ymax)"
   ]
  },
  {
   "cell_type": "markdown",
   "id": "b1ee18c3",
   "metadata": {},
   "source": [
    "The probability density function for the estimate of the average age has been changed by the additional knowlege of the 25 people. If the ages of an additional 25 people are collected, the distribution will change again. Now, the previous posterior PDF is the new prior distribution."
   ]
  },
  {
   "cell_type": "code",
   "execution_count": 21,
   "id": "c0cac9b0",
   "metadata": {},
   "outputs": [],
   "source": [
    "ages = np.random.normal(actual_average, actual_spread, 25)"
   ]
  },
  {
   "cell_type": "code",
   "execution_count": 22,
   "id": "07669415",
   "metadata": {},
   "outputs": [],
   "source": [
    "# Perform Bayesian quantites for the new prior.\n",
    "def bayes_calculation(priors, likelihoods, delta):\n",
    "    evidence = 0\n",
    "    posteriors = []\n",
    "    \n",
    "    for prior, likelihood in zip(priors, likelihoods):\n",
    "        \n",
    "        posterior = prior * likelihood\n",
    "        posteriors.append(posterior)\n",
    "        \n",
    "        evidence += posterior * delta\n",
    "    \n",
    "    posteriors = [posterior / evidence for posterior in posteriors]\n",
    "    \n",
    "    return priors, likelihoods, evidence, posteriors"
   ]
  },
  {
   "cell_type": "code",
   "execution_count": 24,
   "id": "c19e5768",
   "metadata": {},
   "outputs": [],
   "source": [
    "priors, likelihoods, evidence, posteriors = bayes_calculation(\n",
    "    posteriors, \n",
    "    [probability_model_parameters(ages, value) for value in average_values], \n",
    "    average_values[1] - average_values[0]\n",
    ")"
   ]
  },
  {
   "cell_type": "code",
   "execution_count": 29,
   "id": "2bb9acc1",
   "metadata": {},
   "outputs": [
    {
     "data": {
      "text/plain": [
       "<Figure size 432x288 with 0 Axes>"
      ]
     },
     "metadata": {},
     "output_type": "display_data"
    },
    {
     "data": {
      "image/png": "[encoded data removed]",
      "text/plain": [
       "<Figure size 360x360 with 1 Axes>"
      ]
     },
     "metadata": {
      "needs_background": "light"
     },
     "output_type": "display_data"
    }
   ],
   "source": [
    "plt.clf()\n",
    "fig = plt.figure(figsize=(5,5))\n",
    "\n",
    "plt.title('Prior Distribution', fontsize=30)\n",
    "\n",
    "plt.plot(average_values, priors, color=\"k\", label=\"P\")\n",
    "\n",
    "plt.xlabel('Age [y]', fontsize=30)\n",
    "plt.ylabel('P(a)', fontsize=30)\n",
    "\n",
    "plt.tick_params(labelsize=24)\n",
    "\n",
    "plt.xlim(np.min(average_values), np.max(average_values))\n",
    "ymin,ymax = plt.ylim()\n",
    "plt.ylim(0.0, 1.2 * ymax)\n",
    "\n",
    "plt.show()"
   ]
  },
  {
   "cell_type": "code",
   "execution_count": 30,
   "id": "73894353",
   "metadata": {},
   "outputs": [
    {
     "data": {
      "text/plain": [
       "<Figure size 432x288 with 0 Axes>"
      ]
     },
     "metadata": {},
     "output_type": "display_data"
    },
    {
     "data": {
      "image/png": "[encoded data removed]",
      "text/plain": [
       "<Figure size 360x360 with 1 Axes>"
      ]
     },
     "metadata": {
      "needs_background": "light"
     },
     "output_type": "display_data"
    }
   ],
   "source": [
    "plt.clf()\n",
    "fig = plt.figure(figsize=(5,5))\n",
    "\n",
    "plt.title('Posterior Distribution', fontsize=30)\n",
    "\n",
    "plt.plot(average_values, posteriors, color=\"k\", label=\"P\")\n",
    "\n",
    "plt.xlabel('Age [y]', fontsize=30)\n",
    "plt.ylabel('P(a | m)', fontsize=30)\n",
    "\n",
    "plt.xticks(fontsize=24)\n",
    "plt.yticks(fontsize=24)\n",
    "\n",
    "plt.xlim(np.min(average_values), np.max(average_values))\n",
    "ymin,ymax = plt.ylim()\n",
    "plt.ylim(0.0, 1.2 * ymax)\n",
    "\n",
    "plt.show()"
   ]
  },
  {
   "cell_type": "markdown",
   "id": "493f33ba",
   "metadata": {},
   "source": [
    "The posterior distribution has narrowed further due to the additional information."
   ]
  }
 ],
 "metadata": {
  "kernelspec": {
   "display_name": "Python 3",
   "language": "python",
   "name": "python3"
  },
  "language_info": {
   "codemirror_mode": {
    "name": "ipython",
    "version": 3
   },
   "file_extension": ".py",
   "mimetype": "text/x-python",
   "name": "python",
   "nbconvert_exporter": "python",
   "pygments_lexer": "ipython3",
   "version": "3.8.8"
  }
 },
 "nbformat": 4,
 "nbformat_minor": 5
}
