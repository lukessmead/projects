{
 "cells": [
  {
   "cell_type": "markdown",
   "id": "360e674e",
   "metadata": {},
   "source": [
    "### Bayesian Statistics"
   ]
  },
  {
   "cell_type": "markdown",
   "id": "431ef4b6",
   "metadata": {},
   "source": [
    "Bayes theorem is used to update probability distributions after obtaining new data. Given two events, $A$ and $B$, the conditional probability if $A$ given $B$ is given by:\n",
    "\n",
    "\\begin{align}\n",
    "    P(A | B) = \\frac{P(B | A) P(A)}{P(B)}\n",
    "\\end{align}"
   ]
  },
  {
   "cell_type": "code",
   "execution_count": null,
   "id": "32ada172",
   "metadata": {},
   "outputs": [],
   "source": []
  }
 ],
 "metadata": {
  "kernelspec": {
   "display_name": "Python 3",
   "language": "python",
   "name": "python3"
  },
  "language_info": {
   "codemirror_mode": {
    "name": "ipython",
    "version": 3
   },
   "file_extension": ".py",
   "mimetype": "text/x-python",
   "name": "python",
   "nbconvert_exporter": "python",
   "pygments_lexer": "ipython3",
   "version": "3.8.8"
  }
 },
 "nbformat": 4,
 "nbformat_minor": 5
}
