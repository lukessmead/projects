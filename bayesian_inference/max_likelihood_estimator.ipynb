{
 "cells": [
  {
   "cell_type": "markdown",
   "id": "466dc4aa",
   "metadata": {},
   "source": [
    "### Maximum Likelihood Estimator"
   ]
  },
  {
   "cell_type": "markdown",
   "id": "24ced140",
   "metadata": {},
   "source": [
    "#### Estimator Derivation"
   ]
  },
  {
   "cell_type": "markdown",
   "id": "9d95804a",
   "metadata": {},
   "source": [
    "For a set of measurements, $\\{x_i\\}$, which are assumed to be unbiased with a Gaussian noise distribution, the probability of obtaining any one measurement $x_i$ is given by,"
   ]
  },
  {
   "cell_type": "markdown",
   "id": "58ba49f3",
   "metadata": {},
   "source": [
    "\\begin{align}\n",
    "P\\left( x_i | x \\right) = \\frac{1}{\\sqrt{2\\pi}\\sigma_i}e^{-\\frac{\\left( x_i - \\overline{x} \\right)^2}{2\\sigma^2}}\n",
    "\\end{align}"
   ]
  },
  {
   "cell_type": "markdown",
   "id": "43c80be7",
   "metadata": {},
   "source": [
    "where $\\overline{x}$ is the true value of $x$. The probability of obtaining the set of measurements $\\{x_i\\}$ is the product of the probabilities of obtaining each measurement separately,"
   ]
  },
  {
   "cell_type": "markdown",
   "id": "7d09071f",
   "metadata": {},
   "source": [
    "\\begin{align}\n",
    "    P\\left(\\{x_i\\} | x \\right) = \\prod_{i=1}^{N} \\frac{1}{\\sqrt{2\\pi}\\sigma_i}e^{-\\frac{\\left( x_i - \\overline{x} \\right)^2}{2\\sigma^2}}\n",
    "\\end{align}"
   ]
  },
  {
   "cell_type": "markdown",
   "id": "524c526b",
   "metadata": {},
   "source": [
    "where there are $N$ measurements. To obtain the Maximum Likelihood Estimator for the value $\\overline{x}$, maximise the probability $P\\left(\\{x_i\\} | x \\right)$\n",
    "\\begin{align}\n",
    "    \\frac{d\\left( P\\left(\\{x_i\\} | x \\right) \\right)}{dx}  = 0\n",
    "\\end{align}\n",
    "then,\n",
    "\\begin{align}\n",
    "    \\frac{d\\left( ln\\left[P\\left(\\{x_i\\} | x \\right)\\right] \\right]}{dx} &= \\frac{d}{dx}\\left[ \\frac{1}{2} n \\mathrm{ln}(2\\pi) - n\\sum_{i=1}^{N}\\mathrm{ln}(\\sigma_i) - \\sum_{i=1}^{N}\\frac{\\left( x_i - \\overline{x} \\right)^2}{2\\sigma_i^2} \\right] \\\\\n",
    "    &= \\sum_{i=1}^{N} \\frac{x_i-\\overline{x}}{\\sigma_i^2} \\\\\n",
    "    &= \\sum_{i=1}^{N} \\frac{x_i}{\\sigma_i^2} - \\overline{x} \\sum_{i=1}^{N} \\frac{1}{\\sigma_i^2} \\\\\n",
    "    &\\therefore \\overline{x} = \\left. \\sum_{i=1}^{N} \\frac{x_i}{\\sigma_i^2} \\middle/ \\sum_{i=1}^{N} \\frac{1}{\\sigma_i^2} \\right. \\label{eqn:MLE}\n",
    "\\end{align}"
   ]
  },
  {
   "cell_type": "markdown",
   "id": "73e4d995",
   "metadata": {},
   "source": [
    "#### Estimator Calculation"
   ]
  },
  {
   "cell_type": "code",
   "execution_count": 8,
   "id": "82c82c18",
   "metadata": {},
   "outputs": [],
   "source": [
    "import numpy as np\n",
    "import matplotlib\n",
    "from matplotlib import pyplot as plt\n",
    "\n",
    "matplotlib.rcParams['font.sans-serif'] = \"Times New Roman\""
   ]
  },
  {
   "cell_type": "code",
   "execution_count": 9,
   "id": "2ee5ca75",
   "metadata": {},
   "outputs": [],
   "source": [
    "# x_i, sigma_i\n",
    "measurements = [\n",
    "    [1.10, 0.05],\n",
    "    [1.01, 0.01],\n",
    "    [0.99, 0.01],\n",
    "    [0.98, 0.01],\n",
    "    [1.00, 0.02],\n",
    "    [1.30, 0.4],\n",
    "]"
   ]
  },
  {
   "cell_type": "code",
   "execution_count": 10,
   "id": "f8f36703",
   "metadata": {},
   "outputs": [
    {
     "name": "stdout",
     "output_type": "stream",
     "text": [
      "The maximum likelihood estimator for the true value is 1.00\n"
     ]
    }
   ],
   "source": [
    "numerator = 0\n",
    "denominator = 0\n",
    "for measurement in measurements:\n",
    "    numerator += measurement[0] / measurement[1]**2\n",
    "    denominator += 1.0 / measurement[1]**2\n",
    "\n",
    "estimator = numerator / denominator\n",
    "\n",
    "print(\"The maximum likelihood estimator for the true value is {:.2f}\".format(estimator))"
   ]
  },
  {
   "cell_type": "markdown",
   "id": "cf418918",
   "metadata": {},
   "source": [
    "#### Estimator Calculation over time"
   ]
  },
  {
   "cell_type": "code",
   "execution_count": 24,
   "id": "6bc6af19",
   "metadata": {},
   "outputs": [],
   "source": [
    "actual_mean_average = 1.0\n",
    "actual_mean_spread = 0.05\n",
    "\n",
    "actual_error_average = 0.05\n",
    "actual_error_spread = 0.005\n",
    "\n",
    "n_measurements = []\n",
    "estimators = []\n",
    "\n",
    "numerator = 0\n",
    "denominator = 0\n",
    "n_measurement = 1000\n",
    "for i in range(n_measurement):\n",
    "    n_measurements.append(i)\n",
    "    value = np.random.normal(actual_mean_average, actual_mean_spread)\n",
    "    error = np.random.normal(actual_error_average, actual_error_spread)\n",
    "    \n",
    "    measurement = [value, error]\n",
    "\n",
    "    numerator += measurement[0] / measurement[1]**2\n",
    "    denominator += 1.0 / measurement[1]**2\n",
    "\n",
    "    estimators.append(numerator / denominator)"
   ]
  },
  {
   "cell_type": "code",
   "execution_count": 25,
   "id": "754a739f",
   "metadata": {},
   "outputs": [
    {
     "data": {
      "text/plain": [
       "<Figure size 432x288 with 0 Axes>"
      ]
     },
     "metadata": {},
     "output_type": "display_data"
    },
    {
     "data": {
      "image/png": "[encoded data removed]",
      "text/plain": [
       "<Figure size 360x360 with 1 Axes>"
      ]
     },
     "metadata": {
      "needs_background": "light"
     },
     "output_type": "display_data"
    }
   ],
   "source": [
    "# Create plot of estimated mean vs the number of measurements.\n",
    "\n",
    "plt.clf()\n",
    "fig = plt.figure(figsize=(5,5))\n",
    "\n",
    "plt.plot(n_measurements, estimators)\n",
    "\n",
    "plt.ylabel('Estimated Mean', fontsize=30)\n",
    "plt.xlabel('Measurements', fontsize=30)\n",
    "\n",
    "plt.tick_params(labelsize=24)\n",
    "\n",
    "plt.show()"
   ]
  }
 ],
 "metadata": {
  "kernelspec": {
   "display_name": "Python 3",
   "language": "python",
   "name": "python3"
  },
  "language_info": {
   "codemirror_mode": {
    "name": "ipython",
    "version": 3
   },
   "file_extension": ".py",
   "mimetype": "text/x-python",
   "name": "python",
   "nbconvert_exporter": "python",
   "pygments_lexer": "ipython3",
   "version": "3.8.8"
  }
 },
 "nbformat": 4,
 "nbformat_minor": 5
}
