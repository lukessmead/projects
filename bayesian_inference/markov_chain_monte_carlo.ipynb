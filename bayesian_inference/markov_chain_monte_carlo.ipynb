{
 "cells": [
  {
   "cell_type": "markdown",
   "id": "21301d91",
   "metadata": {},
   "source": [
    "### Markov Chain Monte Carlo"
   ]
  },
  {
   "cell_type": "markdown",
   "id": "4c86e295",
   "metadata": {},
   "source": [
    "In statistics, Markov chain Monte Carlo (MCMC) methods comprise a class of algorithms for sampling from a probability distribution. By constructing a Markov chain that has the desired distribution as its equilibrium distribution, one can obtain a sample of the desired distribution by recording states from the chain. The more steps that are included, the more closely the distribution of the sample matches the actual desired distribution. Various algorithms exist for constructing chains, including the Metropolis–Hastings algorithm."
   ]
  },
  {
   "cell_type": "markdown",
   "id": "f9abc26d",
   "metadata": {},
   "source": [
    "A Markov process is uniquely defined by its transition probabilities $ P(x' | x)$, the probability of transitioning from any given state $x$ to any other given state $x'$. It has a unique stationary distribution $\\pi (x)$ when the following two conditions are met:"
   ]
  },
  {
   "cell_type": "markdown",
   "id": "fe59470c",
   "metadata": {},
   "source": [
    "1. *Existence of stationary distribution*: there must exist a stationary distribution $\\pi (x)$. A sufficient but not necessary condition is detailed balance, which requires that each transition$ x\\to x'$ is reversible: for every pair of states $x,x'$, the probability of being in state $x$ and transitioning to state $x'$ must be equal to the probability of being in state $x'$ and transitioning to state $x$,$\\pi (x)P(x'\\mid x) = \\pi (x')P(x\\mid x')$.\n",
    "\n",
    "2. *Uniqueness of stationary distribution*: the stationary distribution $\\pi (x)$ must be unique. This is guaranteed by ergodicity of the Markov process, which requires that every state must (1) be aperiodic—the system does not return to the same state at fixed intervals; and (2) be positive recurrent—the expected number of steps for returning to the same state is finite."
   ]
  },
  {
   "cell_type": "markdown",
   "id": "7065ebb0",
   "metadata": {},
   "source": [
    "The Metropolis–Hastings algorithm involves designing a Markov process (by constructing transition probabilities) that fulfills the two above conditions, such that its stationary distribution $\\pi (x)$ is chosen to be $P(x)$. The derivation of the algorithm starts with the condition of detailed balance:\n",
    "\n",
    "$P(x'\\mid x)P(x)=P(x\\mid x')P(x')$,\n",
    "which is re-written as\n",
    "\n",
    "$\\frac {P(x'\\mid x)}{P(x\\mid x')}={\\frac {P(x')}{P(x)}}$.\n",
    "\n",
    "The approach is to separate the transition in two sub-steps; the proposal and the acceptance-rejection. The proposal distribution $g(x'\\mid x)$ is the conditional probability of proposing a state $x'$ given $x$, and the acceptance distribution $A(x',x)$ is the probability to accept the proposed state $x'. The transition probability can be written as the product of them:\n",
    "\n",
    "$P(x'\\mid x)=g(x'\\mid x)A(x',x)$.\n",
    "\n",
    "Inserting this relation in the previous equation, we have\n",
    "\n",
    "$\\frac {A(x',x)}{A(x,x')}={\\frac {P(x')}{P(x)}}{\\frac {g(x\\mid x')}{g(x'\\mid x)}}$.\n",
    "\n",
    "The next step in the derivation is to choose an acceptance ratio that fulfills the condition above. One common choice is the Metropolis choice:\n",
    "\n",
    "$A(x',x)=\\min \\left(1,{\\frac {P(x')}{P(x)}}{\\frac {g(x\\mid x')}{g(x'\\mid x)}}\\right)$.\n",
    "\n",
    "For this Metropolis acceptance ratio $A$, either $A(x',x)=1$ or $A(x,x')=1$ and, either way, the condition is satisfied."
   ]
  },
  {
   "cell_type": "markdown",
   "id": "20ec3b3e",
   "metadata": {},
   "source": [
    "The Metropolis–Hastings algorithm can thus be written as follows:\n",
    "\n",
    "1. Initialise\n",
    "\n",
    "    1. Pick an initial state $x_{0}$.\n",
    "    \n",
    "    2. Set $t=0$.\n",
    "    \n",
    "2. Iterate\n",
    "    1. Generate a random candidate state $x'$ according to $g(x'\\mid x_{t})$.\n",
    "    \n",
    "    2. Calculate the acceptance probability $A(x',x_{t})=\\min \\left(1,{\\frac {P(x')}{P(x_{t})}}{\\frac {g(x_{t}\\mid x')}{g(x'\\mid x_{t})}}\\right)$.\n",
    "    \n",
    "    3. Accept or reject:\n",
    "    \n",
    "        1. Generate a uniform random number $u\\in [0,1]$;\n",
    "        \n",
    "        2. if $u\\leq A(x',x_{t})$, then accept the new state and set $x_{t+1}=x'$;\n",
    "        \n",
    "        3. if $u>A(x',x_{t})$, then reject the new state, and copy the old state forward $x_{t+1}=x_{t}$.\n",
    "        \n",
    "    4. Increment: set $t=t+1$."
   ]
  },
  {
   "cell_type": "markdown",
   "id": "a7a9e016",
   "metadata": {},
   "source": [
    "#### Velocity of a Star"
   ]
  },
  {
   "cell_type": "markdown",
   "id": "76802438",
   "metadata": {},
   "source": [
    "There are several measurements of a star's velocity with an associated uncertainty. "
   ]
  },
  {
   "cell_type": "code",
   "execution_count": 113,
   "id": "63901c78",
   "metadata": {},
   "outputs": [],
   "source": [
    "import numpy as np\n",
    "# Need a seed to make results reproducable\n",
    "np.random.seed(12345)"
   ]
  },
  {
   "cell_type": "code",
   "execution_count": 114,
   "id": "26c1d48c",
   "metadata": {},
   "outputs": [],
   "source": [
    "# Need to create the dataset\n",
    "\n",
    "# Generate velocity measurements\n",
    "def generate_velocity_measurements(velocity, uncertainty, n_measurements):\n",
    "    return np.random.normal(velocity, uncertainty, size=n_measurements)\n",
    "\n",
    "# Generated uncertainty values\n",
    "def generate_velocity_errors(uncertainty, spread, n_measurements):\n",
    "    return np.random.normal(uncertainty, spread, size=n_measurements)\n",
    "\n",
    "# Make data set of n_measurements\n",
    "def make_measurements(n_measurements):\n",
    "    real_velocity = 9700.0\n",
    "    real_uncertainty = 2.0\n",
    "    real_spread = 0.1\n",
    "    \n",
    "    v_measurements = generate_velocity_measurements(real_velocity, real_uncertainty, n_measurements)\n",
    "    v_errors = generate_velocity_errors(real_uncertainty, real_spread, n_measurements)\n",
    "    return(v_measurements, v_errors)"
   ]
  },
  {
   "cell_type": "code",
   "execution_count": 115,
   "id": "17661943",
   "metadata": {},
   "outputs": [],
   "source": [
    "n_measurements = 100\n",
    "velocity_measurements, velocity_errors = make_measurements(n_measurements)"
   ]
  },
  {
   "cell_type": "code",
   "execution_count": 116,
   "id": "5245630a",
   "metadata": {},
   "outputs": [],
   "source": [
    "import matplotlib\n",
    "from matplotlib import pyplot as plt\n",
    "\n",
    "matplotlib.rcParams['font.sans-serif'] = \"Times New Roman\""
   ]
  },
  {
   "cell_type": "code",
   "execution_count": 117,
   "id": "0bb14514",
   "metadata": {},
   "outputs": [
    {
     "data": {
      "text/plain": [
       "<Figure size 432x288 with 0 Axes>"
      ]
     },
     "metadata": {},
     "output_type": "display_data"
    },
    {
     "data": {
      "image/png": "[encoded data removed]",
      "text/plain": [
       "<Figure size 720x360 with 2 Axes>"
      ]
     },
     "metadata": {
      "needs_background": "light"
     },
     "output_type": "display_data"
    }
   ],
   "source": [
    "# Create plot of the velocities and uncertainties\n",
    "plt.clf()\n",
    "fig, (ax1, ax2) = plt.subplots(1, 2, figsize=(10,5))\n",
    "\n",
    "ax1.hist(v_measurements, color=\"k\", label=\"Data\", histtype='step', bins=20)\n",
    "\n",
    "ax1.set_xlabel('V (m/s)', fontsize=25)\n",
    "ax1.set_ylabel('$Count$', fontsize=25)\n",
    "\n",
    "ax1.tick_params(labelsize=20)\n",
    "\n",
    "ax2.hist(v_errors, color=\"k\", label=\"Data\", histtype='step', bins=20)\n",
    "\n",
    "ax2.set_xlabel('Uncertainty (m/s)', fontsize=25)\n",
    "ax2.set_ylabel('$Count$', fontsize=25)\n",
    "\n",
    "ax2.tick_params(labelsize=20)\n",
    "\n",
    "fig.tight_layout(pad=1.0)"
   ]
  },
  {
   "cell_type": "markdown",
   "id": "9765da90",
   "metadata": {},
   "source": [
    "The minimum $\\chi^2$ velocity of the star $v_\\chi$ minimises the quantity\n",
    "\\begin{align}\n",
    "    s = \\sum_i \\frac{(d_i-v)^2}{\\sigma_i}\n",
    "\\end{align}\n",
    "where $d_i$ is the $i$th data point and $\\sigma_i$ is the uncertainty on the $i$th data point. To find this value a search was performed in the range $9695$m/s$\\leq v \\leq 9705$m/s. The 90\\% confidence interval can be evaluated using the minimum value of $s$, $s_{min}$. For this problem, for a given $v$, the $s$ calculated follows a $\\chi^2$ distribution with $n$ degrees of freedom while $s_{min}$ follows a $\\chi^2$ distribution with $n-1$ degrees of freedom. The difference, $\\Delta s = s - s_{min}$ follows a $\\chi^2$ distribution with one degree of freedom. "
   ]
  },
  {
   "cell_type": "code",
   "execution_count": 118,
   "id": "6d7fb494",
   "metadata": {},
   "outputs": [],
   "source": [
    "# Calculate our chi2\n",
    "def chi_2(measurements, errors, v):\n",
    "    chi_2 = 0\n",
    "    for measurement, error in zip(measurements, errors):\n",
    "        chi_2 += (measurement - v)**2 / error\n",
    "    return chi_2"
   ]
  },
  {
   "cell_type": "code",
   "execution_count": 119,
   "id": "9a27c922",
   "metadata": {},
   "outputs": [],
   "source": [
    "# Scan across range with a large number of points\n",
    "velocity_min = 9695\n",
    "velocity_max = 9705\n",
    "velocity_points = 50000\n",
    "velocity_range = np.linspace(velocity_min, velocity_max, velocity_points)"
   ]
  },
  {
   "cell_type": "code",
   "execution_count": 120,
   "id": "e4558c4d",
   "metadata": {},
   "outputs": [],
   "source": [
    "# Calculate the chi2 for each test velocity\n",
    "chi_2_values = []\n",
    "for velocity in velocity_range:\n",
    "    chi_2_values.append(chi_2(velocity_measurements, velocity_errors, velocity))"
   ]
  },
  {
   "cell_type": "code",
   "execution_count": 121,
   "id": "1e7dd32a",
   "metadata": {},
   "outputs": [
    {
     "data": {
      "text/plain": [
       "(0.0, 1653.3946795996862)"
      ]
     },
     "execution_count": 121,
     "metadata": {},
     "output_type": "execute_result"
    },
    {
     "data": {
      "image/png": "[encoded data removed]",
      "text/plain": [
       "<Figure size 360x360 with 1 Axes>"
      ]
     },
     "metadata": {
      "needs_background": "light"
     },
     "output_type": "display_data"
    }
   ],
   "source": [
    "# Plot our chi2 values\n",
    "fig = plt.figure(figsize=(5, 5))\n",
    "plt.plot(velocity_range, chi_2_values, color=\"k\", label=\"chi_2\")\n",
    "\n",
    "plt.xlabel('Velocity [m/s]', fontsize=30)\n",
    "plt.ylabel('$\\chi^2$', fontsize=30)\n",
    "\n",
    "plt.tick_params(labelsize=24)\n",
    "\n",
    "plt.ylim([0.0, 1.1 *np.max(chi_2_values)])"
   ]
  },
  {
   "cell_type": "code",
   "execution_count": 122,
   "id": "90d73a63",
   "metadata": {},
   "outputs": [
    {
     "data": {
      "text/plain": [
       "(0.0, 1653.3946795996862)"
      ]
     },
     "execution_count": 122,
     "metadata": {},
     "output_type": "execute_result"
    },
    {
     "data": {
      "image/png": "[encoded data removed]",
      "text/plain": [
       "<Figure size 360x360 with 1 Axes>"
      ]
     },
     "metadata": {
      "needs_background": "light"
     },
     "output_type": "display_data"
    }
   ],
   "source": [
    "# Now find our minimum chi2\n",
    "chi_2_min = np.min(chi_2_values)\n",
    "chi_2_min_index = np.where(chi_2_values == chi_2_min)\n",
    "\n",
    "chi_2_delta = chi_2_values - chi_2_min\n",
    "\n",
    "fig = plt.figure(figsize=(5, 5))\n",
    "plt.plot(velocity_range, chi_2_delta, color=\"k\", label=\"chi_2\")\n",
    "\n",
    "plt.xlabel('v [m/s]', fontsize=30)\n",
    "plt.ylabel('$\\Delta \\chi^2$', fontsize=30)\n",
    "\n",
    "plt.tick_params(labelsize=24)\n",
    "\n",
    "plt.ylim([0.0, 1.1 *np.max(chi_2_values)])"
   ]
  },
  {
   "cell_type": "code",
   "execution_count": 123,
   "id": "37a115df",
   "metadata": {},
   "outputs": [],
   "source": [
    "from scipy.stats import chi2"
   ]
  },
  {
   "cell_type": "code",
   "execution_count": 124,
   "id": "27856de3",
   "metadata": {},
   "outputs": [],
   "source": [
    "# Calculate chi2 difference for a given confidence interval\n",
    "# We can input a lower guess for the target to speed things up\n",
    "def calcualte_chi_2_target(confidence_interval, chi_2_target=0, chi_2_step= 1e-15):\n",
    "    # While the chi2 integral is less than the confidence interval, increase the chi2 target\n",
    "    while chi2.cdf(chi_2_target, 1) < confidence_interval:\n",
    "        old_chi_2_target = chi_2_target\n",
    "        chi_2_target += chi_2_step\n",
    "    return(old_chi_2_target)"
   ]
  },
  {
   "cell_type": "code",
   "execution_count": 125,
   "id": "ea6bb7a1",
   "metadata": {},
   "outputs": [],
   "source": [
    "# Iteratively narrow chi2_step until suitable accuracy is found\n",
    "confidence_interval = 0.9\n",
    "chi_2_target = 0.0\n",
    "chi_2_step = 0.01\n",
    "while(chi_2_step > 1e-15):\n",
    "    chi_2_target = calcualte_chi_2_target(confidence_interval, chi_2_target, chi_2_step)\n",
    "    chi_2_step /= 10.0"
   ]
  },
  {
   "cell_type": "code",
   "execution_count": 126,
   "id": "a98b1676",
   "metadata": {},
   "outputs": [],
   "source": [
    "# Now find the confidence limits for the velocity measurement\n",
    "confidence_limits = []\n",
    "\n",
    "# Seach lower end of chi2 values counting up\n",
    "# If the chi2 is lower than the chi2 target, we have found the lower bound\n",
    "for index, chi_2_value in enumerate(chi_2_delta):\n",
    "    if chi_2_value < chi_2_target:\n",
    "        confidence_limits.append(index)\n",
    "        break\n",
    "\n",
    "# Seach upper end of chi2 values counting down\n",
    "# If the chi2 is lower than the chi2 target, we have found the upper bound\n",
    "for index, chi_2_value in enumerate(chi_2_delta):\n",
    "    if chi_2_delta[len(chi_2_delta) - index - 1] < chi_2_target:\n",
    "        confidence_limits.append(len(chi_2_delta) - index - 1)\n",
    "        break"
   ]
  },
  {
   "cell_type": "code",
   "execution_count": 127,
   "id": "f03da8cc",
   "metadata": {},
   "outputs": [
    {
     "name": "stdout",
     "output_type": "stream",
     "text": [
      "0.9% Confidence Interval for V = 9700.0703 +- 0.232\n"
     ]
    }
   ],
   "source": [
    "velocity_value = velocity_range[chi_2_min_index]\n",
    "velocity_limits = velocity_value - velocity_range[confidence_limits]\n",
    "velocity_limits = np.average(np.abs(velocity_limits))\n",
    "\n",
    "print(f'{confidence_interval}% Confidence Interval for V = {float(velocity_value):5.9} +- {velocity_limits:5.4}')"
   ]
  },
  {
   "cell_type": "markdown",
   "id": "5c66b4d0",
   "metadata": {},
   "source": [
    "The posterior PDF of the star's velocity is given by\n",
    "\\begin{align}\n",
    "    P(v|d) = \\frac{P(d|v)P(v)}{P(d)}\n",
    "\\end{align}\n",
    "where,\n",
    "\\begin{align}\n",
    "    P(v) = \\frac{\\theta(v-9695)\\theta(9705-v)}{10},\n",
    "\\end{align}\n",
    "$P(d)$ is the evidence which is a normalisation factor, and\n",
    "\\begin{align}\n",
    "    P(d|v) = \\prod_{i} \\frac{1}{\\sqrt{2\\pi} \\sigma_i} e^{-\\frac{(d_i - v)^2}{2\\sigma_i^2}}\n",
    "\\end{align}\n",
    "\n",
    "The following posterior was calcualted using Bayes Theorem."
   ]
  },
  {
   "cell_type": "code",
   "execution_count": 138,
   "id": "80cd32da",
   "metadata": {},
   "outputs": [],
   "source": [
    "# Need flat probabolity distributions for the prior\n",
    "def flat_probability(x, x_low, x_high):\n",
    "    return 1/float(x_high - x_low) * (x_low <= x) * (x <= x_high)\n",
    "\n",
    "# Calcualte the probabilty of the model given the data\n",
    "def probability_model_parameters(data, error, prediction):\n",
    "    return np.prod((1 / (np.sqrt(2 * np.pi * error))) * np.exp(-(1/(2.0 * np.power(error, 2))) * np.power((data - prediction), 2)))"
   ]
  },
  {
   "cell_type": "code",
   "execution_count": 139,
   "id": "0a47e34a",
   "metadata": {},
   "outputs": [],
   "source": [
    "# Calcuate the posterior\n",
    "def calculate_posterior(velocity_range):\n",
    "    probability_velocity = 0\n",
    "    numerators = []\n",
    "    \n",
    "    for velocity_value in velocity_range:\n",
    "        # Calculate prior\n",
    "        flat_probability_values = flat_probability(velocity_value, np.min(velocity_range), np.max(velocity_range))\n",
    "        \n",
    "        # Calculate model probability\n",
    "        model_probability_values = probability_model_parameters(velocity_measurements, velocity_errors, velocity_value)\n",
    "        \n",
    "        numerators.append(flat_probability_values * model_probability_values)\n",
    "        \n",
    "        # Calcualte evidence\n",
    "        probability_velocity += flat_probability_values * model_probability_values * (velocity_range[1] - velocity_range[0])\n",
    "\n",
    "    velocity_posterior = numerators / probability_velocity\n",
    "    return(velocity_posterior)"
   ]
  },
  {
   "cell_type": "code",
   "execution_count": 140,
   "id": "1c683d35",
   "metadata": {},
   "outputs": [],
   "source": [
    "velocity_posterior = calculate_posterior(velocity_range)"
   ]
  },
  {
   "cell_type": "code",
   "execution_count": 141,
   "id": "862fb865",
   "metadata": {},
   "outputs": [
    {
     "data": {
      "text/plain": [
       "(0.0, 2.2057959650129404)"
      ]
     },
     "execution_count": 141,
     "metadata": {},
     "output_type": "execute_result"
    },
    {
     "data": {
      "image/png": "[encoded data removed]",
      "text/plain": [
       "<Figure size 360x360 with 1 Axes>"
      ]
     },
     "metadata": {
      "needs_background": "light"
     },
     "output_type": "display_data"
    }
   ],
   "source": [
    "# Plot the posterior\n",
    "fig = plt.figure(figsize=(5, 5))\n",
    "plt.plot(velocity_range, velocity_posterior, color=\"k\", label=\"P\")\n",
    "\n",
    "plt.xlabel('Velocity [m/s]', fontsize=30)\n",
    "plt.ylabel('P(v | d)', fontsize=30)\n",
    "\n",
    "plt.tick_params(labelsize=24)\n",
    "\n",
    "plt.xlim(np.min(velocity_range), np.max(velocity_range))\n",
    "plt.ylim(0.0, 1.1 * np.max(velocity_posterior))"
   ]
  },
  {
   "cell_type": "markdown",
   "id": "530f5607",
   "metadata": {},
   "source": [
    "As defined above, the posterior PDF of the star's velocity is given by\n",
    "\\begin{align}\n",
    "    P(v|d) = \\frac{P(d|v)P(v)}{P(d)}\n",
    "\\end{align}\n",
    "where,\n",
    "\\begin{align}\n",
    "    P(v) = \\frac{\\theta(v-9695)\\theta(9705-v)}{10},\n",
    "\\end{align}\n",
    "$P(d)$ is the evidence which is a normalisation factor, and\n",
    "\\begin{align}\n",
    "    P(d|v) = \\prod_{i} \\frac{1}{\\sqrt{2\\pi} \\sigma_i} e^{-\\frac{(d_i - v)^2}{2\\sigma_i^2}}\n",
    "\\end{align}\n",
    "\n",
    "The following posterior PDF was constructed using a Markov Chain Monte Carlo (MCMC) analysis with Metropolis acceptance criteria, namely, construct a variable $a$, such that\n",
    "\\begin{align}\n",
    "    a = \\frac{P(v_p|d)}{P(v_c|d)}\n",
    "\\end{align}\n",
    "where $v_p$ is the next proposed velocity in the MCMC and $v_c$ is the current velocity in the MCMC. Then,\n",
    "\\begin{align}\n",
    "    &\\text{if }a\\geq 1,\\ \\ v_p \\rightarrow v_c\\\\\n",
    "    &\\text{else, } v_p \\rightarrow v_c \\text{ with probability }a\\\\\n",
    "    &v_p \\rightarrow v_p \\text{ with probability }1-a.\n",
    "\\end{align}\n",
    "The next proposed velocity $v_p$ is calculated from the current velocity $v_c$, a step size $s_v$, and a random number, $r$, between 0 and 1.\n",
    "\\begin{align}\n",
    "    v_p = v_c + s_v \\text{ if } r<0.5 \\\\\n",
    "    v_p = v_c - s_v \\text{ if } r>0.5\n",
    "\\end{align}\n",
    "The step size for the MCMC is calculated during a burn in phase, where the results are not recorded, but the number of successful jumps to $v_p$ is recorded. The step size after $N$ jumps is altered such that\n",
    "\\begin{align}\n",
    "    s_v \\rightarrow s_v \\cdot \\frac{N_{success}}{N\\cdot T}\n",
    "\\end{align}\n",
    "where $T$ is the target success rate for the MCMC. This phase is repeated until the difference between successive step sizes is below a certain threshold. This allows for a sensible choice of velocity step size to be made, and ensures a sufficient number of burn in steps in performed."
   ]
  },
  {
   "cell_type": "code",
   "execution_count": 152,
   "id": "69561f1f",
   "metadata": {},
   "outputs": [],
   "source": [
    "# Get the posterior numerator for a given velocity\n",
    "# To be used in the acceptance function\n",
    "def return_posterior_numerator(velocity):\n",
    "    flat_probability_values = flat_probability(velocity, np.min(velocity_range), np.max(velocity_range))\n",
    "    model_probability_values = probability_model_parameters(velocity_measurements, velocity_errors, velocity)\n",
    "    return flat_probability_values * model_probability_values"
   ]
  },
  {
   "cell_type": "code",
   "execution_count": 153,
   "id": "622c9031",
   "metadata": {},
   "outputs": [],
   "source": [
    "# Get probability of acceptance for jumping to a new velocity value\n",
    "def metro_acceptance(old_velocity, new_velocity):\n",
    "    return return_posterior_numerator(new_velocity) / return_posterior_numerator(old_velocity)"
   ]
  },
  {
   "cell_type": "code",
   "execution_count": 154,
   "id": "49f99f50",
   "metadata": {},
   "outputs": [],
   "source": [
    "# Return new value of velocity\n",
    "# This might be the old value if the jump did not happen\n",
    "# Also return whether the jump happend or not\n",
    "def new_value(old_velocity, new_velocity):\n",
    "    \n",
    "    # Get probability of jumping to new value\n",
    "    jump_probability = metro_acceptance(old_velocity, new_velocity)\n",
    "    \n",
    "    # If the posterior is higher than the old, then always jump\n",
    "    if jump_probability > 1:\n",
    "        return new_velocity, True\n",
    "    # If the posterior is lower, then jump according to the probability\n",
    "    elif np.random.random_sample() < jump_probability:\n",
    "        return new_velocity, True\n",
    "    else:\n",
    "        return old_velocity, False"
   ]
  },
  {
   "cell_type": "code",
   "execution_count": 155,
   "id": "9a846faa",
   "metadata": {},
   "outputs": [],
   "source": [
    "# Calcuate the next proposed jump, based on the step_size\n",
    "def next_proposed_value(velocity_current, step_size):\n",
    "    # Have a 50% of jumping forward or backward\n",
    "    if np.random.random_sample() < 0.5:\n",
    "        return velocity_current - step_size\n",
    "    else:\n",
    "        return velocity_current + step_size"
   ]
  },
  {
   "cell_type": "code",
   "execution_count": 156,
   "id": "9b74bc11",
   "metadata": {},
   "outputs": [],
   "source": [
    "# Calculate new step size based on proportion of successful jumps\n",
    "# This is only used during burn-in\n",
    "def calc_step_size(step_size, jumps, target_success):\n",
    "    return step_size * (np.sum(jumps) / (len(jumps) * target_success))"
   ]
  },
  {
   "cell_type": "code",
   "execution_count": 157,
   "id": "6481573f",
   "metadata": {},
   "outputs": [],
   "source": [
    "# Give an idea of how long the MCMC will take\n",
    "import tqdm"
   ]
  },
  {
   "cell_type": "code",
   "execution_count": 191,
   "id": "5f9586ba",
   "metadata": {},
   "outputs": [],
   "source": [
    "# Define our MCMC process\n",
    "def mcmc(starting_step_size, step_size_tollerance, target_success, jumps_per_burn, jumps_mcmc):\n",
    "    # Get starting step size\n",
    "    step_size = starting_step_size\n",
    "    # Old step size value to compare with the new step size\n",
    "    # Burn in will end when the step size change is less than the tollerance\n",
    "    step_size_old = starting_step_size - 1.0\n",
    "    \n",
    "    # Start at random velocity in range\n",
    "    velocity_current = np.random.uniform(np.min(velocity_range), np.max(velocity_range))\n",
    "    \n",
    "    # Record the velocity values that are in the chain\n",
    "    velocity_mcmc = []\n",
    "    \n",
    "    # Count the number of burn in periods\n",
    "    n_burns = 0\n",
    "    \n",
    "    # Burn in will end when the step size change is less than the tollerance\n",
    "    while (abs(step_size - step_size_old) > step_size_tollerance):\n",
    "        n_burns += 1\n",
    "        \n",
    "        # Record whether a jump occured or not\n",
    "        jumps = []\n",
    "        \n",
    "        # Perform a set number of jumps, then change step size to aim for the target success rate for jumping\n",
    "        for burn in range(jumps_per_burn):\n",
    "            \n",
    "            # Perform the jumps, updating the current velocity and recording whether a jump happend\n",
    "            # Do not record velocities until burn in is over\n",
    "            velocity_current, changed = new_value(velocity_current, next_proposed_value(velocity_current, step_size))\n",
    "            jumps.append(changed)\n",
    "       \n",
    "        # Calculate new step size\n",
    "        step_size_old = step_size\n",
    "        step_size = calc_step_size(step_size, jumps, target_success)\n",
    "    \n",
    "    # Print burn in information\n",
    "    print(f'Number of burn ins = {n_burns}.')\n",
    "    print(f'Number of burn jumps = {n_burns * jumps_per_burn:,}.')\n",
    "    print(f'Step size = {step_size}, for target success = {target_success}.')\n",
    "    \n",
    "    # Now perform the MCMC with the fixed step size\n",
    "    # Use tqdm to give idea of timings\n",
    "    for n in tqdm.tqdm(range(jumps_mcmc)):\n",
    "        \n",
    "        # Update the current velocity\n",
    "        velocity_current, changed = new_value(velocity_current, next_proposed_value(velocity_current, step_size))\n",
    "        \n",
    "        # Save velocity to build up posterior distribution\n",
    "        velocity_mcmc.append(velocity_current)\n",
    "    \n",
    "    return velocity_mcmc, step_size"
   ]
  },
  {
   "cell_type": "code",
   "execution_count": 198,
   "id": "8baec4fa",
   "metadata": {},
   "outputs": [
    {
     "name": "stderr",
     "output_type": "stream",
     "text": [
      "  0%|          | 1723/500000 [00:00<00:57, 8604.67it/s]"
     ]
    },
    {
     "name": "stdout",
     "output_type": "stream",
     "text": [
      "Number of burn ins = 23.\n",
      "Number of burn jumps = 23,000.\n",
      "Step size = 0.01567756141714597, for target success = 0.975.\n"
     ]
    },
    {
     "name": "stderr",
     "output_type": "stream",
     "text": [
      "100%|██████████| 500000/500000 [00:57<00:00, 8693.32it/s]\n"
     ]
    }
   ],
   "source": [
    "velocity_posterior_mcmc, final_step_size = mcmc(0.02, 1e-5, 0.975, 1000, 500000)"
   ]
  },
  {
   "cell_type": "code",
   "execution_count": 200,
   "id": "1063aca5",
   "metadata": {},
   "outputs": [
    {
     "data": {
      "text/plain": [
       "<matplotlib.legend.Legend at 0x24ab5453730>"
      ]
     },
     "execution_count": 200,
     "metadata": {},
     "output_type": "execute_result"
    },
    {
     "data": {
      "image/png": "[encoded data removed]",
      "text/plain": [
       "<Figure size 360x360 with 1 Axes>"
      ]
     },
     "metadata": {
      "needs_background": "light"
     },
     "output_type": "display_data"
    }
   ],
   "source": [
    "# Plot the posterior\n",
    "plot_range = [9698, 9702]\n",
    "n_bins = int(np.floor((plot_range[1] - plot_range[0]) / final_step_size))\n",
    "\n",
    "fig = plt.figure(figsize=(5, 5))\n",
    "plt.plot(velocity_range, velocity_posterior, color=\"k\", label=\"Analytical Posterior\")\n",
    "plt.hist(velocity_posterior_mcmc, color=\"r\", label=\"MCMC Posterior\", bins=n_bins, range=plot_range, histtype='step', density=True)\n",
    "\n",
    "plt.xlabel('Velocity [m/s]', fontsize=30)\n",
    "plt.ylabel('P(v | d)', fontsize=30)\n",
    "\n",
    "plt.tick_params(labelsize=24)\n",
    "\n",
    "plt.xlim(plot_range)\n",
    "plt.ylim(0.0, 1.5 * np.max(velocity_posterior))\n",
    "\n",
    "plt.legend(fontsize=20)"
   ]
  },
  {
   "cell_type": "code",
   "execution_count": null,
   "id": "6f2f1beb",
   "metadata": {},
   "outputs": [],
   "source": []
  }
 ],
 "metadata": {
  "kernelspec": {
   "display_name": "Python 3",
   "language": "python",
   "name": "python3"
  },
  "language_info": {
   "codemirror_mode": {
    "name": "ipython",
    "version": 3
   },
   "file_extension": ".py",
   "mimetype": "text/x-python",
   "name": "python",
   "nbconvert_exporter": "python",
   "pygments_lexer": "ipython3",
   "version": "3.8.8"
  }
 },
 "nbformat": 4,
 "nbformat_minor": 5
}
