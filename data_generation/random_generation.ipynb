{
 "cells": [
  {
   "cell_type": "markdown",
   "id": "a9d87938",
   "metadata": {},
   "source": [
    "## Generating Random Datasets\n",
    "\n",
    "Generating datasets is an essential tool for testing analysis code because it allows you to verify that your code is working correctly on realistic data. When working with real-world data, there are often many sources of noise and variability, such as measurement error, missing data, and sampling variability. Testing your code on synthetic datasets with known characteristics allows you to evaluate the performance of your code under different scenarios and to ensure that your code is robust to the noise and variability that may be present in real-world data.\n",
    "\n",
    "In addition to testing code, generating datasets can also be used for exploratory data analysis, hypothesis testing, and model selection. By generating synthetic datasets with known characteristics, you can explore the properties of different statistical models and test hypotheses about the underlying data generating process. This can help you to identify potential issues with your analysis approach, such as overfitting, and to select the most appropriate model for your data.\n",
    "\n",
    "Overall, generating datasets is a powerful tool for testing and validating analysis code, and the functions provided above offer a simple and flexible way to generate noisy datasets for a wide range of applications.\n",
    "\n",
    "The functions below provide a convenient way to generate noisy datasets for testing analysis code. The ```generate_noisy_dataframe``` function generates a Pandas dataframe with a specified number of rows and columns, where the values in each column are generated using an externally defined distribution function with added noise. The function also includes a random seed column that can be used for reproducibility. The ```add_column_to_dataframe``` function adds a new column to an existing dataframe using a specified distribution function with added noise. These functions provide a flexible and efficient way to generate datasets for testing machine learning and statistical analysis code."
   ]
  },
  {
   "cell_type": "code",
   "execution_count": 1,
   "id": "14addd18",
   "metadata": {},
   "outputs": [],
   "source": [
    "import pandas as pd\n",
    "import numpy as np"
   ]
  },
  {
   "cell_type": "code",
   "execution_count": 2,
   "id": "1f6dd2d8",
   "metadata": {},
   "outputs": [],
   "source": [
    "def generate_random_seed_column(n_samples: int) -> pd.Series:\n",
    "    \"\"\"\n",
    "    Generates a column of random seed values as integers between 0 and 2**32-1 with `n_samples` entries.\n",
    "\n",
    "    Parameters:\n",
    "    n_samples: int\n",
    "        The number of samples to generate.\n",
    "\n",
    "    Returns:\n",
    "    pd.Series\n",
    "        A column of random seed values as integers between 0 and 2**32-1.\n",
    "    \"\"\"\n",
    "    return pd.Series(np.random.randint(low=0, high=2**31-1, size=n_samples), name='seed')\n"
   ]
  },
  {
   "cell_type": "code",
   "execution_count": 62,
   "id": "218ba763",
   "metadata": {},
   "outputs": [],
   "source": [
    "def add_noisy_column(df: pd.DataFrame,\n",
    "                     column_name: str,\n",
    "                     distribution_function: callable, \n",
    "                     noise_function: callable, \n",
    "                     noise_factor: float) -> pd.DataFrame:\n",
    "    \"\"\"\n",
    "    Adds a new column to a dataframe `df` generated from a specified `distribution_function` with added noise using a \n",
    "    `noise_function` and a `noise_factor`.\n",
    "\n",
    "    Parameters:\n",
    "    df: pd.DataFrame\n",
    "        The dataframe to which the column should be added.\n",
    "    column_name: str\n",
    "        The name of the column.\n",
    "    distribution_function: callable\n",
    "        A function that takes a random seed value (a float between 0 and 1) and returns a sample from the desired distribution.\n",
    "    noise_function: callable\n",
    "        A function that takes a sample from the distribution and returns an amount of noise to add to that sample.\n",
    "    noise_factor: float\n",
    "        A scaling factor for the amount of noise added to each sample.\n",
    "\n",
    "    Returns:\n",
    "    pd.DataFrame\n",
    "        The original dataframe with an additional noisy column.\n",
    "    \"\"\"\n",
    "    # Generate noisy samples for the column using the specified distribution function and noise function.\n",
    "    new_col = distribution_function(df['seed'].to_numpy())\n",
    "    new_col = noise_function(new_col, noise_factor, df['seed'].to_numpy())\n",
    "\n",
    "    # Add the new column to the dataframe.\n",
    "    df[column_name] = new_col\n",
    "\n",
    "    return df"
   ]
  },
  {
   "cell_type": "code",
   "execution_count": 63,
   "id": "1e5f408c",
   "metadata": {},
   "outputs": [],
   "source": [
    "def generate_noisy_dataframe(n_samples: int, \n",
    "                              column_names: list,\n",
    "                              distribution_functions: list, \n",
    "                              noise_function: callable, \n",
    "                              noise_factors: list) -> pd.DataFrame:\n",
    "    \"\"\"\n",
    "    Generates a pandas dataframe with `n_samples` rows and columns based on specified `distribution_functions`\n",
    "    with added noise using a `noise_function` and a `noise_factor`.\n",
    "\n",
    "    Parameters:\n",
    "    n_samples: int\n",
    "        The number of samples to generate for each column.\n",
    "    column_names: list\n",
    "        The list of names to use for the columns.\n",
    "    distribution_functions: list\n",
    "        A list of functions, where each function takes a random seed value (a float between 0 and 1)\n",
    "        and returns a sample from a desired distribution.\n",
    "    noise_function: callable\n",
    "        A function that takes a sample from the distribution and returns an amount of noise to add to that sample.\n",
    "    noise_factors: list\n",
    "        A list of scaling factors for the amount of noise added to each sample.\n",
    "\n",
    "    Returns:\n",
    "    pd.DataFrame\n",
    "        A dataframe with `n_samples` rows and columns based on specified `distribution_functions`\n",
    "        with added noise using a `noise_function` and a `noise_factor`.\n",
    "    \"\"\"\n",
    "    # Initialize an empty dataframe with a random seed column.\n",
    "    df = pd.DataFrame()\n",
    "    df['seed'] = generate_random_seed_column(n_samples)\n",
    "\n",
    "    # Add noisy columns to the dataframe for each specified distribution function.\n",
    "    for i, dist_func in enumerate(distribution_functions):\n",
    "        df = add_noisy_column(df, column_names[i], dist_func, noise_function, noise_factors[i])\n",
    "\n",
    "    return df"
   ]
  },
  {
   "cell_type": "code",
   "execution_count": 64,
   "id": "324ee8d0",
   "metadata": {},
   "outputs": [],
   "source": [
    "from typing import Union"
   ]
  },
  {
   "cell_type": "code",
   "execution_count": 65,
   "id": "9f96d3b4",
   "metadata": {},
   "outputs": [],
   "source": [
    "def gaussian_distribution(seed: Union[float, np.ndarray], mean: float, std: float) -> np.ndarray:\n",
    "    \"\"\"\n",
    "    Generate a sample from a Gaussian distribution with a specified mean and standard deviation.\n",
    "\n",
    "    Parameters:\n",
    "    seed (Union[float, np.ndarray]): the random seed value(s) used to generate the sample(s).\n",
    "    mean (float): the mean of the Gaussian distribution.\n",
    "    std (float): the standard deviation of the Gaussian distribution.\n",
    "\n",
    "    Returns:\n",
    "    np.ndarray: an array of samples from the Gaussian distribution with the specified mean and standard deviation.\n",
    "    \"\"\"\n",
    "    # Convert single seeds to arrays for consistency.\n",
    "    if isinstance(seed, float):\n",
    "        seed = np.array([seed])\n",
    "\n",
    "    # Use the seed value(s) to generate samples from the Gaussian distribution.\n",
    "    np.random.seed(seed)\n",
    "    return np.random.normal(loc=mean, scale=std, size=len(seed))"
   ]
  },
  {
   "cell_type": "code",
   "execution_count": 66,
   "id": "fa4ca903",
   "metadata": {},
   "outputs": [],
   "source": [
    "import functools"
   ]
  },
  {
   "cell_type": "code",
   "execution_count": 67,
   "id": "f2393828",
   "metadata": {},
   "outputs": [],
   "source": [
    "def noise_func(x: np.ndarray, scale: float, seed: Union[float, np.ndarray]) -> np.ndarray:\n",
    "    \"\"\"\n",
    "    Adds random noise to a variable x, with the amount of noise determined by the scale parameter.\n",
    "\n",
    "    Parameters:\n",
    "    x (np.ndarray): the array to which noise should be added.\n",
    "    scale (float): a dimensionless parameter controlling the amount of noise to add, with 0 corresponding to no noise and 1 corresponding to maximum noise.\n",
    "    seed (Union[float, np.ndarray]): a seed value or array of seed values used to generate random numbers.\n",
    "\n",
    "    Returns:\n",
    "    np.ndarray: the array x plus random noise.\n",
    "    \"\"\"\n",
    "    return x + (np.random.RandomState(seed).rand(x.size) - 0.5) * 2 * scale * x"
   ]
  },
  {
   "cell_type": "code",
   "execution_count": 108,
   "id": "9497c08c",
   "metadata": {},
   "outputs": [],
   "source": [
    "def generate_particle_values(num_particles: int) -> tuple:\n",
    "    \"\"\"\n",
    "    Generates lists of means, standard deviations, noise factors, and names for `num_particles` particles.\n",
    "\n",
    "    Parameters:\n",
    "    num_particles: int\n",
    "        The number of particles to generate values for.\n",
    "\n",
    "    Returns:\n",
    "    tuple\n",
    "        A tuple of four lists:\n",
    "        - means_list: a list of means for each particle, where each mean is a list of three floats\n",
    "        - stds_list: a list of standard deviations for each particle, where each standard deviation is a list of three floats\n",
    "        - noise_factors_list: a list of noise factors for each particle, where each noise factor is a list of three floats\n",
    "        - names_list: a list of column names for each particle, where each column name is a string in the format 'particle_a_px',\n",
    "                      'particle_a_py', or 'particle_a_pz', where a is the particle number (starting from 0)\n",
    "        - latex_names: a dict with the latex version of each colum name.\n",
    "    \"\"\"\n",
    "    means_list = []\n",
    "    stds_list = []\n",
    "    noise_factors_list = []\n",
    "    names_list = []\n",
    "    latex_names = {}\n",
    "\n",
    "    # Loop over each particle\n",
    "    for i in range(num_particles):\n",
    "        # Generate random means, standard deviations, noise factors, and names for the particle\n",
    "        particle_means = np.random.uniform(100, 200, 3).tolist()\n",
    "        particle_stds = np.random.uniform(10, 30, 3).tolist()\n",
    "        particle_noise_factors = np.random.uniform(0, 1, 3).tolist()\n",
    "        particle_names = [f'particle_{i}_px', f'particle_{i}_py', f'particle_{i}_pz']\n",
    "        particle_latex_names = {particle_names[j]: fr'$p_{{{particle_names[j][9]}}}' + fr'(p_{{{i}}})$' for j in range(3)}\n",
    "\n",
    "        # Append the particle's values to the appropriate list\n",
    "        means_list += particle_means\n",
    "        stds_list += particle_stds\n",
    "        noise_factors_list += particle_noise_factors\n",
    "        names_list += particle_names\n",
    "        latex_names.update(particle_latex_names)\n",
    "\n",
    "    # Return the lists as a tuple\n",
    "    return means_list, stds_list, noise_factors_list, names_list, latex_names"
   ]
  },
  {
   "cell_type": "code",
   "execution_count": 109,
   "id": "eae19523",
   "metadata": {},
   "outputs": [
    {
     "name": "stdout",
     "output_type": "stream",
     "text": [
      "{'particle_0_px': '$p_{0}(p_{0})$', 'particle_0_py': '$p_{0}(p_{0})$', 'particle_0_pz': '$p_{0}(p_{0})$', 'particle_1_px': '$p_{1}(p_{1})$', 'particle_1_py': '$p_{1}(p_{1})$', 'particle_1_pz': '$p_{1}(p_{1})$', 'particle_2_px': '$p_{2}(p_{2})$', 'particle_2_py': '$p_{2}(p_{2})$', 'particle_2_pz': '$p_{2}(p_{2})$'}\n"
     ]
    }
   ],
   "source": [
    "num_particles = 3\n",
    "means, stds, noise_factors, names, latex_titles = generate_particle_values(num_particles)\n",
    "\n",
    "print(latex_titles)"
   ]
  },
  {
   "cell_type": "code",
   "execution_count": 110,
   "id": "7a4220dd",
   "metadata": {},
   "outputs": [
    {
     "name": "stdout",
     "output_type": "stream",
     "text": [
      "         seed  particle_0_px  particle_0_py  particle_0_pz  particle_1_px  \\\n",
      "0   273767234     206.266407     255.831348     124.814973     173.638005   \n",
      "1  1487633036     160.023049     175.294029     131.480918     113.333382   \n",
      "2   590446677     110.300616      95.758793      94.476804      44.454453   \n",
      "3  1385316263      96.651540      72.152675      94.860867      26.300531   \n",
      "4   628794573     186.791259     220.496890     106.975663     135.112517   \n",
      "\n",
      "   particle_1_py  particle_1_pz  particle_2_px  particle_2_py  particle_2_pz  \n",
      "0     217.991903     191.577213     213.885195     127.533460     256.702799  \n",
      "1     153.541376     149.261594     149.732097     140.165837     177.186602  \n",
      "2      90.269831      96.543825      69.623040      94.908828      98.146854  \n",
      "3      71.417393      83.769265      50.105559      96.524618      74.825792  \n",
      "4     191.230821     168.988173     171.848023     105.163592     221.798594  \n"
     ]
    }
   ],
   "source": [
    "# Define the distribution functions for each column using the Gaussian distribution function.\n",
    "distributions = [functools.partial(gaussian_distribution, mean=mu, std=sigma) for mu, sigma in zip(means, stds)]\n",
    "\n",
    "# Generate the dataframe with 1000 samples.\n",
    "df = generate_noisy_dataframe(n_samples=10000, column_names=names, distribution_functions=distributions, noise_function=noise_func, noise_factors=noise_factors)\n",
    "\n",
    "# Print the first few rows of the dataframe.\n",
    "print(df.head())"
   ]
  },
  {
   "cell_type": "code",
   "execution_count": 111,
   "id": "c08d9a38",
   "metadata": {},
   "outputs": [],
   "source": [
    "import matplotlib.pyplot as plt\n",
    "import math"
   ]
  },
  {
   "cell_type": "code",
   "execution_count": 112,
   "id": "729b41c5",
   "metadata": {},
   "outputs": [],
   "source": [
    "def plot_distributions(df: pd.DataFrame, plot_variables: list) -> None:\n",
    "    \"\"\"\n",
    "    Plots histograms of the distributions of all columns in a dataframe.\n",
    "\n",
    "    Parameters:\n",
    "    df (pd.DataFrame)\n",
    "        The dataframe to plot.\n",
    "    plot_variables: list\n",
    "        The list of varaibles to plot.\n",
    "\n",
    "    Returns:\n",
    "    None\n",
    "    \"\"\"\n",
    "    # Set up the plot.\n",
    "    n_cols = 3\n",
    "    n_rows = math.ceil(len(plot_variables)/n_cols)\n",
    "    fig, axs = plt.subplots(nrows=n_rows, ncols=n_cols, figsize=(5*n_cols, 5 * n_rows))\n",
    "    \n",
    "    # Loop over each column in the dataframe.\n",
    "    for i, col in enumerate(plot_variables):\n",
    "        nrow = int(i/n_cols)\n",
    "        ncol = i%n_cols\n",
    "        # Plot the histogram as a line.\n",
    "        axs[nrow][ncol].hist(df[col], bins=50, density=True, histtype='step', color='black', linewidth=1)\n",
    "\n",
    "        # Set the axis labels and title.\n",
    "        axs[nrow][ncol].set_xlabel(latex_titles[col])\n",
    "        axs[nrow][ncol].set_ylabel('Density')\n",
    "        \n",
    "        # Remove the yticks\n",
    "        axs[nrow][ncol].set_yticks([])\n",
    "\n",
    "    # Show the plot.\n",
    "    plt.show()"
   ]
  },
  {
   "cell_type": "code",
   "execution_count": 113,
   "id": "d3e9d264",
   "metadata": {},
   "outputs": [
    {
     "data": {
      "image/png": "[encoded data removed]",
      "text/plain": [
       "<Figure size 1080x1080 with 9 Axes>"
      ]
     },
     "metadata": {
      "needs_background": "light"
     },
     "output_type": "display_data"
    }
   ],
   "source": [
    "plot_distributions(df, latex_titles)"
   ]
  },
  {
   "cell_type": "code",
   "execution_count": null,
   "id": "119b993f",
   "metadata": {},
   "outputs": [],
   "source": []
  }
 ],
 "metadata": {
  "kernelspec": {
   "display_name": "Python 3",
   "language": "python",
   "name": "python3"
  },
  "language_info": {
   "codemirror_mode": {
    "name": "ipython",
    "version": 3
   },
   "file_extension": ".py",
   "mimetype": "text/x-python",
   "name": "python",
   "nbconvert_exporter": "python",
   "pygments_lexer": "ipython3",
   "version": "3.8.8"
  }
 },
 "nbformat": 4,
 "nbformat_minor": 5
}
